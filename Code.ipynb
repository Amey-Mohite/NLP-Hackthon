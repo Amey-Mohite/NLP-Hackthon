{
 "cells": [
  {
   "cell_type": "markdown",
   "metadata": {
    "colab_type": "text",
    "id": "19MHTKar_dgJ"
   },
   "source": [
    "###**DATA  and library import and basic Preprocessing**"
   ]
  },
  {
   "cell_type": "code",
   "execution_count": 1,
   "metadata": {
    "colab": {
     "base_uri": "https://localhost:8080/",
     "height": 34
    },
    "colab_type": "code",
    "id": "JxDkR79ZXDA6",
    "outputId": "bd5455cb-49fc-4715-f796-58e51383508f"
   },
   "outputs": [
    {
     "name": "stdout",
     "output_type": "stream",
     "text": [
      "Drive already mounted at /content/drive; to attempt to forcibly remount, call drive.mount(\"/content/drive\", force_remount=True).\n"
     ]
    }
   ],
   "source": [
    "from google.colab import drive\n",
    "drive.mount('/content/drive')"
   ]
  },
  {
   "cell_type": "code",
   "execution_count": 2,
   "metadata": {
    "colab": {
     "base_uri": "https://localhost:8080/",
     "height": 34
    },
    "colab_type": "code",
    "id": "dtrIwlX0ci50",
    "outputId": "8772021b-c3e7-4ef8-fc12-39b797df383b"
   },
   "outputs": [
    {
     "name": "stdout",
     "output_type": "stream",
     "text": [
      "Requirement already satisfied: stop_words in /usr/local/lib/python3.6/dist-packages (2018.7.23)\n"
     ]
    }
   ],
   "source": [
    "!pip install stop_words"
   ]
  },
  {
   "cell_type": "code",
   "execution_count": 55,
   "metadata": {
    "colab": {
     "base_uri": "https://localhost:8080/",
     "height": 185
    },
    "colab_type": "code",
    "id": "o7xfgPS0WyI8",
    "outputId": "f8943ac6-0931-42a2-9eb0-40440dbb1036"
   },
   "outputs": [
    {
     "name": "stdout",
     "output_type": "stream",
     "text": [
      "[nltk_data] Downloading package punkt to /root/nltk_data...\n",
      "[nltk_data]   Package punkt is already up-to-date!\n",
      "[nltk_data] Downloading package averaged_perceptron_tagger to\n",
      "[nltk_data]     /root/nltk_data...\n",
      "[nltk_data]   Package averaged_perceptron_tagger is already up-to-\n",
      "[nltk_data]       date!\n",
      "[nltk_data] Downloading package wordnet to /root/nltk_data...\n",
      "[nltk_data]   Package wordnet is already up-to-date!\n",
      "[nltk_data] Downloading package stopwords to /root/nltk_data...\n",
      "[nltk_data]   Package stopwords is already up-to-date!\n"
     ]
    }
   ],
   "source": [
    "import pandas as pd\n",
    "from nltk.corpus import stopwords\n",
    "from nltk.stem.porter import PorterStemmer\n",
    "from nltk.corpus import wordnet as wn\n",
    "from stop_words import get_stop_words\n",
    "from string import punctuation\n",
    "import re, sys, math, string\n",
    "import nltk\n",
    "nltk.download('punkt')\n",
    "nltk.download('averaged_perceptron_tagger')\n",
    "nltk.download('wordnet')\n",
    "from sklearn.feature_extraction.text import TfidfVectorizer\n",
    "from numpy import array\n",
    "from sklearn.model_selection import train_test_split as tts\n",
    "from sklearn.naive_bayes import MultinomialNB\n",
    "from sklearn.metrics import classification_report\n",
    "from sklearn.ensemble import RandomForestClassifier\n",
    "from keras.layers import Embedding\n",
    "from keras.layers import Dense, Input, GlobalMaxPooling1D\n",
    "from keras.layers import Conv1D, MaxPooling1D, Embedding\n",
    "from keras.models import Model\n",
    "from keras.layers import Input, Dense, Embedding, Conv2D, MaxPooling2D, Dropout,concatenate\n",
    "from keras.layers.core import Reshape, Flatten\n",
    "from keras.callbacks import EarlyStopping\n",
    "from keras.optimizers import Adam\n",
    "from keras.models import Model\n",
    "from keras import regularizers\n",
    "from keras.layers import Embedding\n",
    "from keras.preprocessing.text import Tokenizer\n",
    "from keras.wrappers.scikit_learn import KerasClassifier\n",
    "from ast import literal_eval\n",
    "from sklearn.preprocessing import LabelEncoder\n",
    "import matplotlib.pyplot as plt\n",
    "from sklearn.metrics import accuracy_score, confusion_matrix\n",
    "import numpy as np\n",
    "import itertools \n",
    "from keras.models import Sequential\n",
    "from keras.layers import Dense, LSTM, Embedding\n",
    "nltk.download('stopwords')\n",
    "from keras.preprocessing.sequence import pad_sequences\n",
    "import warnings\n",
    "warnings.filterwarnings(\"ignore\")\n",
    "from keras.callbacks import EarlyStopping\n",
    "from keras.models import load_model\n",
    "from keras.utils import to_categorical\n",
    "import logging\n",
    "from gensim.models import word2vec\n",
    "import gensim\n",
    "from sklearn.utils import shuffle\n",
    "from sklearn.svm import LinearSVC"
   ]
  },
  {
   "cell_type": "code",
   "execution_count": 0,
   "metadata": {
    "colab": {},
    "colab_type": "code",
    "id": "-9DFn_nfW75g"
   },
   "outputs": [],
   "source": [
    "df = pd.read_csv(\"/content/drive/My Drive/Consumer Complaints/Consumer_Complaints.csv\")"
   ]
  },
  {
   "cell_type": "code",
   "execution_count": 5,
   "metadata": {
    "colab": {
     "base_uri": "https://localhost:8080/",
     "height": 635
    },
    "colab_type": "code",
    "id": "X9vuA6bjYgLe",
    "outputId": "61f9d5a0-b078-4211-f37f-d65730b09085"
   },
   "outputs": [
    {
     "data": {
      "text/html": [
       "<div>\n",
       "<style scoped>\n",
       "    .dataframe tbody tr th:only-of-type {\n",
       "        vertical-align: middle;\n",
       "    }\n",
       "\n",
       "    .dataframe tbody tr th {\n",
       "        vertical-align: top;\n",
       "    }\n",
       "\n",
       "    .dataframe thead th {\n",
       "        text-align: right;\n",
       "    }\n",
       "</style>\n",
       "<table border=\"1\" class=\"dataframe\">\n",
       "  <thead>\n",
       "    <tr style=\"text-align: right;\">\n",
       "      <th></th>\n",
       "      <th>Date received</th>\n",
       "      <th>Product</th>\n",
       "      <th>Sub-product</th>\n",
       "      <th>Issue</th>\n",
       "      <th>Sub-issue</th>\n",
       "      <th>Consumer complaint narrative</th>\n",
       "      <th>Company public response</th>\n",
       "      <th>Company</th>\n",
       "      <th>State</th>\n",
       "      <th>ZIP code</th>\n",
       "      <th>Tags</th>\n",
       "      <th>Consumer consent provided?</th>\n",
       "      <th>Submitted via</th>\n",
       "      <th>Date sent to company</th>\n",
       "      <th>Company response to consumer</th>\n",
       "      <th>Timely response?</th>\n",
       "      <th>Consumer disputed?</th>\n",
       "      <th>Complaint ID</th>\n",
       "    </tr>\n",
       "  </thead>\n",
       "  <tbody>\n",
       "    <tr>\n",
       "      <th>0</th>\n",
       "      <td>07/11/2019</td>\n",
       "      <td>Credit reporting, credit repair services, or o...</td>\n",
       "      <td>Credit reporting</td>\n",
       "      <td>Incorrect information on your report</td>\n",
       "      <td>Information belongs to someone else</td>\n",
       "      <td>NaN</td>\n",
       "      <td>NaN</td>\n",
       "      <td>NAVY FEDERAL CREDIT UNION</td>\n",
       "      <td>MO</td>\n",
       "      <td>NaN</td>\n",
       "      <td>NaN</td>\n",
       "      <td>NaN</td>\n",
       "      <td>Web</td>\n",
       "      <td>07/11/2019</td>\n",
       "      <td>In progress</td>\n",
       "      <td>Yes</td>\n",
       "      <td>NaN</td>\n",
       "      <td>3303029</td>\n",
       "    </tr>\n",
       "    <tr>\n",
       "      <th>1</th>\n",
       "      <td>07/11/2019</td>\n",
       "      <td>Debt collection</td>\n",
       "      <td>Other debt</td>\n",
       "      <td>Attempts to collect debt not owed</td>\n",
       "      <td>Debt is not yours</td>\n",
       "      <td>NaN</td>\n",
       "      <td>Company can't verify or dispute the facts in t...</td>\n",
       "      <td>CCS Financial Services, Inc.</td>\n",
       "      <td>AR</td>\n",
       "      <td>71747</td>\n",
       "      <td>NaN</td>\n",
       "      <td>NaN</td>\n",
       "      <td>Web</td>\n",
       "      <td>07/11/2019</td>\n",
       "      <td>Closed with explanation</td>\n",
       "      <td>Yes</td>\n",
       "      <td>NaN</td>\n",
       "      <td>3303081</td>\n",
       "    </tr>\n",
       "    <tr>\n",
       "      <th>2</th>\n",
       "      <td>07/11/2019</td>\n",
       "      <td>Debt collection</td>\n",
       "      <td>Other debt</td>\n",
       "      <td>Attempts to collect debt not owed</td>\n",
       "      <td>Debt was result of identity theft</td>\n",
       "      <td>NaN</td>\n",
       "      <td>NaN</td>\n",
       "      <td>Diversified Consultants, Inc.</td>\n",
       "      <td>GA</td>\n",
       "      <td>30083</td>\n",
       "      <td>NaN</td>\n",
       "      <td>NaN</td>\n",
       "      <td>Web</td>\n",
       "      <td>07/11/2019</td>\n",
       "      <td>In progress</td>\n",
       "      <td>Yes</td>\n",
       "      <td>NaN</td>\n",
       "      <td>3302734</td>\n",
       "    </tr>\n",
       "    <tr>\n",
       "      <th>3</th>\n",
       "      <td>07/11/2019</td>\n",
       "      <td>Payday loan, title loan, or personal loan</td>\n",
       "      <td>Installment loan</td>\n",
       "      <td>Getting the loan</td>\n",
       "      <td>NaN</td>\n",
       "      <td>NaN</td>\n",
       "      <td>NaN</td>\n",
       "      <td>NAVY FEDERAL CREDIT UNION</td>\n",
       "      <td>VA</td>\n",
       "      <td>230XX</td>\n",
       "      <td>Servicemember</td>\n",
       "      <td>NaN</td>\n",
       "      <td>Web</td>\n",
       "      <td>07/11/2019</td>\n",
       "      <td>In progress</td>\n",
       "      <td>Yes</td>\n",
       "      <td>NaN</td>\n",
       "      <td>3303054</td>\n",
       "    </tr>\n",
       "    <tr>\n",
       "      <th>4</th>\n",
       "      <td>07/11/2019</td>\n",
       "      <td>Debt collection</td>\n",
       "      <td>Other debt</td>\n",
       "      <td>Written notification about debt</td>\n",
       "      <td>Didn't receive enough information to verify debt</td>\n",
       "      <td>NaN</td>\n",
       "      <td>NaN</td>\n",
       "      <td>EOS Holdings, Inc.</td>\n",
       "      <td>IN</td>\n",
       "      <td>NaN</td>\n",
       "      <td>NaN</td>\n",
       "      <td>NaN</td>\n",
       "      <td>Web</td>\n",
       "      <td>07/11/2019</td>\n",
       "      <td>Closed with explanation</td>\n",
       "      <td>Yes</td>\n",
       "      <td>NaN</td>\n",
       "      <td>3303406</td>\n",
       "    </tr>\n",
       "  </tbody>\n",
       "</table>\n",
       "</div>"
      ],
      "text/plain": [
       "  Date received  ... Complaint ID\n",
       "0    07/11/2019  ...      3303029\n",
       "1    07/11/2019  ...      3303081\n",
       "2    07/11/2019  ...      3302734\n",
       "3    07/11/2019  ...      3303054\n",
       "4    07/11/2019  ...      3303406\n",
       "\n",
       "[5 rows x 18 columns]"
      ]
     },
     "execution_count": 5,
     "metadata": {
      "tags": []
     },
     "output_type": "execute_result"
    }
   ],
   "source": [
    "df.head()"
   ]
  },
  {
   "cell_type": "code",
   "execution_count": 6,
   "metadata": {
    "colab": {
     "base_uri": "https://localhost:8080/",
     "height": 34
    },
    "colab_type": "code",
    "id": "1c0uAb_7YLIV",
    "outputId": "fcd4f6f2-fec6-4331-d165-a45c8f782d0b"
   },
   "outputs": [
    {
     "data": {
      "text/plain": [
       "(1330434, 18)"
      ]
     },
     "execution_count": 6,
     "metadata": {
      "tags": []
     },
     "output_type": "execute_result"
    }
   ],
   "source": [
    "df.shape"
   ]
  },
  {
   "cell_type": "code",
   "execution_count": 0,
   "metadata": {
    "colab": {},
    "colab_type": "code",
    "id": "4quU_nzAYmfy"
   },
   "outputs": [],
   "source": [
    "data = df[[\"Product\", \"Consumer complaint narrative\"]]"
   ]
  },
  {
   "cell_type": "code",
   "execution_count": 8,
   "metadata": {
    "colab": {
     "base_uri": "https://localhost:8080/",
     "height": 195
    },
    "colab_type": "code",
    "id": "CWR-5zSqZJ6J",
    "outputId": "282a4f36-dc23-46f1-da6d-e7cd8dcd33f0"
   },
   "outputs": [
    {
     "data": {
      "text/html": [
       "<div>\n",
       "<style scoped>\n",
       "    .dataframe tbody tr th:only-of-type {\n",
       "        vertical-align: middle;\n",
       "    }\n",
       "\n",
       "    .dataframe tbody tr th {\n",
       "        vertical-align: top;\n",
       "    }\n",
       "\n",
       "    .dataframe thead th {\n",
       "        text-align: right;\n",
       "    }\n",
       "</style>\n",
       "<table border=\"1\" class=\"dataframe\">\n",
       "  <thead>\n",
       "    <tr style=\"text-align: right;\">\n",
       "      <th></th>\n",
       "      <th>Product</th>\n",
       "      <th>Consumer complaint narrative</th>\n",
       "    </tr>\n",
       "  </thead>\n",
       "  <tbody>\n",
       "    <tr>\n",
       "      <th>0</th>\n",
       "      <td>Credit reporting, credit repair services, or o...</td>\n",
       "      <td>NaN</td>\n",
       "    </tr>\n",
       "    <tr>\n",
       "      <th>1</th>\n",
       "      <td>Debt collection</td>\n",
       "      <td>NaN</td>\n",
       "    </tr>\n",
       "    <tr>\n",
       "      <th>2</th>\n",
       "      <td>Debt collection</td>\n",
       "      <td>NaN</td>\n",
       "    </tr>\n",
       "    <tr>\n",
       "      <th>3</th>\n",
       "      <td>Payday loan, title loan, or personal loan</td>\n",
       "      <td>NaN</td>\n",
       "    </tr>\n",
       "    <tr>\n",
       "      <th>4</th>\n",
       "      <td>Debt collection</td>\n",
       "      <td>NaN</td>\n",
       "    </tr>\n",
       "  </tbody>\n",
       "</table>\n",
       "</div>"
      ],
      "text/plain": [
       "                                             Product Consumer complaint narrative\n",
       "0  Credit reporting, credit repair services, or o...                          NaN\n",
       "1                                    Debt collection                          NaN\n",
       "2                                    Debt collection                          NaN\n",
       "3          Payday loan, title loan, or personal loan                          NaN\n",
       "4                                    Debt collection                          NaN"
      ]
     },
     "execution_count": 8,
     "metadata": {
      "tags": []
     },
     "output_type": "execute_result"
    }
   ],
   "source": [
    "data.head()"
   ]
  },
  {
   "cell_type": "code",
   "execution_count": 9,
   "metadata": {
    "colab": {
     "base_uri": "https://localhost:8080/",
     "height": 34
    },
    "colab_type": "code",
    "id": "30HPwFlPZfgd",
    "outputId": "177005c1-4a61-4d1b-b55b-b3a5c683f223"
   },
   "outputs": [
    {
     "data": {
      "text/plain": [
       "(1330434, 2)"
      ]
     },
     "execution_count": 9,
     "metadata": {
      "tags": []
     },
     "output_type": "execute_result"
    }
   ],
   "source": [
    "data.shape"
   ]
  },
  {
   "cell_type": "code",
   "execution_count": 0,
   "metadata": {
    "colab": {},
    "colab_type": "code",
    "id": "lOPlzwoIY19_"
   },
   "outputs": [],
   "source": [
    "data[\"Product\"] = data[\"Product\"].str.lower()"
   ]
  },
  {
   "cell_type": "markdown",
   "metadata": {
    "colab_type": "text",
    "id": "eQGOIsfHZC3q"
   },
   "source": [
    "###**Preprocessing**"
   ]
  },
  {
   "cell_type": "code",
   "execution_count": 11,
   "metadata": {
    "colab": {
     "base_uri": "https://localhost:8080/",
     "height": 67
    },
    "colab_type": "code",
    "id": "4gAXPZBJYRpf",
    "outputId": "954fc118-7b4a-4b12-f784-b98d03cc9d5e"
   },
   "outputs": [
    {
     "data": {
      "text/plain": [
       "Product                              0\n",
       "Consumer complaint narrative    935070\n",
       "dtype: int64"
      ]
     },
     "execution_count": 11,
     "metadata": {
      "tags": []
     },
     "output_type": "execute_result"
    }
   ],
   "source": [
    "data.isnull().sum()"
   ]
  },
  {
   "cell_type": "code",
   "execution_count": 12,
   "metadata": {
    "colab": {
     "base_uri": "https://localhost:8080/",
     "height": 67
    },
    "colab_type": "code",
    "id": "duDYv1OXYa9w",
    "outputId": "ba8f2e59-9cbf-4c32-aa69-65110dccb54f"
   },
   "outputs": [
    {
     "data": {
      "text/plain": [
       "Product                         0\n",
       "Consumer complaint narrative    0\n",
       "dtype: int64"
      ]
     },
     "execution_count": 12,
     "metadata": {
      "tags": []
     },
     "output_type": "execute_result"
    }
   ],
   "source": [
    "data = data.dropna()\n",
    "data.isnull().sum()"
   ]
  },
  {
   "cell_type": "code",
   "execution_count": 13,
   "metadata": {
    "colab": {
     "base_uri": "https://localhost:8080/",
     "height": 195
    },
    "colab_type": "code",
    "id": "69wx00rgZzit",
    "outputId": "f0882aff-4963-423f-80ab-3b8a6ec6631c"
   },
   "outputs": [
    {
     "data": {
      "text/html": [
       "<div>\n",
       "<style scoped>\n",
       "    .dataframe tbody tr th:only-of-type {\n",
       "        vertical-align: middle;\n",
       "    }\n",
       "\n",
       "    .dataframe tbody tr th {\n",
       "        vertical-align: top;\n",
       "    }\n",
       "\n",
       "    .dataframe thead th {\n",
       "        text-align: right;\n",
       "    }\n",
       "</style>\n",
       "<table border=\"1\" class=\"dataframe\">\n",
       "  <thead>\n",
       "    <tr style=\"text-align: right;\">\n",
       "      <th></th>\n",
       "      <th>Product</th>\n",
       "      <th>Consumer complaint narrative</th>\n",
       "    </tr>\n",
       "  </thead>\n",
       "  <tbody>\n",
       "    <tr>\n",
       "      <th>43374</th>\n",
       "      <td>debt collection</td>\n",
       "      <td>When they call they dont answer the call and t...</td>\n",
       "    </tr>\n",
       "    <tr>\n",
       "      <th>44383</th>\n",
       "      <td>credit reporting, credit repair services, or o...</td>\n",
       "      <td>XXXX XXXX XXXX XXXX had posted 3 collection ac...</td>\n",
       "    </tr>\n",
       "    <tr>\n",
       "      <th>44469</th>\n",
       "      <td>checking or savings account</td>\n",
       "      <td>XXXX of the month every month since XX/XX/2019...</td>\n",
       "    </tr>\n",
       "    <tr>\n",
       "      <th>44562</th>\n",
       "      <td>debt collection</td>\n",
       "      <td>There are 2 charges on my credit report from a...</td>\n",
       "    </tr>\n",
       "    <tr>\n",
       "      <th>44659</th>\n",
       "      <td>debt collection</td>\n",
       "      <td>I provided account information which showed de...</td>\n",
       "    </tr>\n",
       "  </tbody>\n",
       "</table>\n",
       "</div>"
      ],
      "text/plain": [
       "                                                 Product                       Consumer complaint narrative\n",
       "43374                                    debt collection  When they call they dont answer the call and t...\n",
       "44383  credit reporting, credit repair services, or o...  XXXX XXXX XXXX XXXX had posted 3 collection ac...\n",
       "44469                        checking or savings account  XXXX of the month every month since XX/XX/2019...\n",
       "44562                                    debt collection  There are 2 charges on my credit report from a...\n",
       "44659                                    debt collection  I provided account information which showed de..."
      ]
     },
     "execution_count": 13,
     "metadata": {
      "tags": []
     },
     "output_type": "execute_result"
    }
   ],
   "source": [
    "data.head()"
   ]
  },
  {
   "cell_type": "code",
   "execution_count": 14,
   "metadata": {
    "colab": {
     "base_uri": "https://localhost:8080/",
     "height": 34
    },
    "colab_type": "code",
    "id": "7pxdvmmJZbmT",
    "outputId": "428d17bc-dfab-4b73-f757-4bbff838f379"
   },
   "outputs": [
    {
     "data": {
      "text/plain": [
       "(395364, 2)"
      ]
     },
     "execution_count": 14,
     "metadata": {
      "tags": []
     },
     "output_type": "execute_result"
    }
   ],
   "source": [
    "data.shape"
   ]
  },
  {
   "cell_type": "code",
   "execution_count": 15,
   "metadata": {
    "colab": {
     "base_uri": "https://localhost:8080/",
     "height": 336
    },
    "colab_type": "code",
    "id": "met-FuPcZW7p",
    "outputId": "41ef04c5-a09b-4842-d874-5538a4a2e2c7"
   },
   "outputs": [
    {
     "data": {
      "text/plain": [
       "credit reporting, credit repair services, or other personal consumer reports    97387\n",
       "debt collection                                                                 89119\n",
       "mortgage                                                                        53993\n",
       "credit reporting                                                                31588\n",
       "credit card or prepaid card                                                     22684\n",
       "student loan                                                                    22345\n",
       "credit card                                                                     18838\n",
       "bank account or service                                                         14885\n",
       "checking or savings account                                                     13602\n",
       "consumer loan                                                                    9474\n",
       "vehicle loan or lease                                                            6045\n",
       "money transfer, virtual currency, or money service                               5728\n",
       "payday loan, title loan, or personal loan                                        4674\n",
       "payday loan                                                                      1747\n",
       "money transfers                                                                  1497\n",
       "prepaid card                                                                     1450\n",
       "other financial service                                                           292\n",
       "virtual currency                                                                   16\n",
       "Name: Product, dtype: int64"
      ]
     },
     "execution_count": 15,
     "metadata": {
      "tags": []
     },
     "output_type": "execute_result"
    }
   ],
   "source": [
    "data[\"Product\"].value_counts()"
   ]
  },
  {
   "cell_type": "code",
   "execution_count": 0,
   "metadata": {
    "colab": {},
    "colab_type": "code",
    "id": "NSs6s_zkZZw6"
   },
   "outputs": [],
   "source": [
    "data.reset_index(level=0, inplace=True)"
   ]
  },
  {
   "cell_type": "code",
   "execution_count": 0,
   "metadata": {
    "colab": {},
    "colab_type": "code",
    "id": "VO-2mDnlZ51n"
   },
   "outputs": [],
   "source": [
    "data = data.drop(['index'],1)"
   ]
  },
  {
   "cell_type": "code",
   "execution_count": 18,
   "metadata": {
    "colab": {
     "base_uri": "https://localhost:8080/",
     "height": 195
    },
    "colab_type": "code",
    "id": "e_MoSzkEZ7Em",
    "outputId": "3b6643bb-f3fc-4a98-bbc6-d6412b92468c"
   },
   "outputs": [
    {
     "data": {
      "text/html": [
       "<div>\n",
       "<style scoped>\n",
       "    .dataframe tbody tr th:only-of-type {\n",
       "        vertical-align: middle;\n",
       "    }\n",
       "\n",
       "    .dataframe tbody tr th {\n",
       "        vertical-align: top;\n",
       "    }\n",
       "\n",
       "    .dataframe thead th {\n",
       "        text-align: right;\n",
       "    }\n",
       "</style>\n",
       "<table border=\"1\" class=\"dataframe\">\n",
       "  <thead>\n",
       "    <tr style=\"text-align: right;\">\n",
       "      <th></th>\n",
       "      <th>Product</th>\n",
       "      <th>Consumer complaint narrative</th>\n",
       "    </tr>\n",
       "  </thead>\n",
       "  <tbody>\n",
       "    <tr>\n",
       "      <th>0</th>\n",
       "      <td>debt collection</td>\n",
       "      <td>When they call they dont answer the call and t...</td>\n",
       "    </tr>\n",
       "    <tr>\n",
       "      <th>1</th>\n",
       "      <td>credit reporting, credit repair services, or o...</td>\n",
       "      <td>XXXX XXXX XXXX XXXX had posted 3 collection ac...</td>\n",
       "    </tr>\n",
       "    <tr>\n",
       "      <th>2</th>\n",
       "      <td>checking or savings account</td>\n",
       "      <td>XXXX of the month every month since XX/XX/2019...</td>\n",
       "    </tr>\n",
       "    <tr>\n",
       "      <th>3</th>\n",
       "      <td>debt collection</td>\n",
       "      <td>There are 2 charges on my credit report from a...</td>\n",
       "    </tr>\n",
       "    <tr>\n",
       "      <th>4</th>\n",
       "      <td>debt collection</td>\n",
       "      <td>I provided account information which showed de...</td>\n",
       "    </tr>\n",
       "  </tbody>\n",
       "</table>\n",
       "</div>"
      ],
      "text/plain": [
       "                                             Product                       Consumer complaint narrative\n",
       "0                                    debt collection  When they call they dont answer the call and t...\n",
       "1  credit reporting, credit repair services, or o...  XXXX XXXX XXXX XXXX had posted 3 collection ac...\n",
       "2                        checking or savings account  XXXX of the month every month since XX/XX/2019...\n",
       "3                                    debt collection  There are 2 charges on my credit report from a...\n",
       "4                                    debt collection  I provided account information which showed de..."
      ]
     },
     "execution_count": 18,
     "metadata": {
      "tags": []
     },
     "output_type": "execute_result"
    }
   ],
   "source": [
    "data.head()"
   ]
  },
  {
   "cell_type": "code",
   "execution_count": 0,
   "metadata": {
    "colab": {},
    "colab_type": "code",
    "id": "3BIyCrQ_aCOO"
   },
   "outputs": [],
   "source": [
    "data = data.replace(to_replace =[\"credit card\", \"prepaid card\"],  \n",
    "                            value =\"credit card or prepaid card\")\n",
    "data = data.replace(to_replace =\"credit reporting\",\n",
    "                            value =\"credit reporting, credit repair services, or other personal consumer reports\")\n",
    "data = data.replace(to_replace =\"virtual currency\",\n",
    "                            value =\"money transfer, virtual currency, or money service\")\n",
    "data = data.replace(to_replace =\"money transfers\",\n",
    "                            value =\"money transfer, virtual currency, or money service\")\n",
    "data = data.replace(to_replace =[\"student loan\", \"consumer loan\", \"vehicle loan or lease\", \"payday loan, title loan, or personal loan\", \"payday loan\"],  \n",
    "                            value =\"loans\")\n",
    "data = data.replace(to_replace =\"checking or savings account\",  \n",
    "                            value =\"bank account or service\")"
   ]
  },
  {
   "cell_type": "code",
   "execution_count": 0,
   "metadata": {
    "colab": {},
    "colab_type": "code",
    "id": "L7yQPYD-ai7b"
   },
   "outputs": [],
   "source": [
    "data = data[data.Product != 'money transfer, virtual currency, or money service']\n",
    "data = data[data.Product != 'other financial service']"
   ]
  },
  {
   "cell_type": "code",
   "execution_count": 21,
   "metadata": {
    "colab": {
     "base_uri": "https://localhost:8080/",
     "height": 134
    },
    "colab_type": "code",
    "id": "inOqt7SNapg0",
    "outputId": "9eeab4a5-9393-4f8b-87cc-2fa4eb3a9ac5"
   },
   "outputs": [
    {
     "data": {
      "text/plain": [
       "credit reporting, credit repair services, or other personal consumer reports    128975\n",
       "debt collection                                                                  89119\n",
       "mortgage                                                                         53993\n",
       "loans                                                                            44285\n",
       "credit card or prepaid card                                                      42972\n",
       "bank account or service                                                          28487\n",
       "Name: Product, dtype: int64"
      ]
     },
     "execution_count": 21,
     "metadata": {
      "tags": []
     },
     "output_type": "execute_result"
    }
   ],
   "source": [
    "data[\"Product\"].value_counts()"
   ]
  },
  {
   "cell_type": "code",
   "execution_count": 22,
   "metadata": {
    "colab": {
     "base_uri": "https://localhost:8080/",
     "height": 195
    },
    "colab_type": "code",
    "id": "_8D0iZi0atBm",
    "outputId": "5f3c85f1-25b0-4d05-ecd4-66b0d8be3a68"
   },
   "outputs": [
    {
     "data": {
      "text/html": [
       "<div>\n",
       "<style scoped>\n",
       "    .dataframe tbody tr th:only-of-type {\n",
       "        vertical-align: middle;\n",
       "    }\n",
       "\n",
       "    .dataframe tbody tr th {\n",
       "        vertical-align: top;\n",
       "    }\n",
       "\n",
       "    .dataframe thead th {\n",
       "        text-align: right;\n",
       "    }\n",
       "</style>\n",
       "<table border=\"1\" class=\"dataframe\">\n",
       "  <thead>\n",
       "    <tr style=\"text-align: right;\">\n",
       "      <th></th>\n",
       "      <th>Product</th>\n",
       "      <th>Consumer complaint narrative</th>\n",
       "    </tr>\n",
       "  </thead>\n",
       "  <tbody>\n",
       "    <tr>\n",
       "      <th>0</th>\n",
       "      <td>debt collection</td>\n",
       "      <td>When they call they dont answer the call and t...</td>\n",
       "    </tr>\n",
       "    <tr>\n",
       "      <th>1</th>\n",
       "      <td>credit reporting, credit repair services, or o...</td>\n",
       "      <td>XXXX XXXX XXXX XXXX had posted 3 collection ac...</td>\n",
       "    </tr>\n",
       "    <tr>\n",
       "      <th>2</th>\n",
       "      <td>bank account or service</td>\n",
       "      <td>XXXX of the month every month since XX/XX/2019...</td>\n",
       "    </tr>\n",
       "    <tr>\n",
       "      <th>3</th>\n",
       "      <td>debt collection</td>\n",
       "      <td>There are 2 charges on my credit report from a...</td>\n",
       "    </tr>\n",
       "    <tr>\n",
       "      <th>4</th>\n",
       "      <td>debt collection</td>\n",
       "      <td>I provided account information which showed de...</td>\n",
       "    </tr>\n",
       "  </tbody>\n",
       "</table>\n",
       "</div>"
      ],
      "text/plain": [
       "                                             Product                       Consumer complaint narrative\n",
       "0                                    debt collection  When they call they dont answer the call and t...\n",
       "1  credit reporting, credit repair services, or o...  XXXX XXXX XXXX XXXX had posted 3 collection ac...\n",
       "2                            bank account or service  XXXX of the month every month since XX/XX/2019...\n",
       "3                                    debt collection  There are 2 charges on my credit report from a...\n",
       "4                                    debt collection  I provided account information which showed de..."
      ]
     },
     "execution_count": 22,
     "metadata": {
      "tags": []
     },
     "output_type": "execute_result"
    }
   ],
   "source": [
    "data.head()"
   ]
  },
  {
   "cell_type": "code",
   "execution_count": 0,
   "metadata": {
    "colab": {},
    "colab_type": "code",
    "id": "rT5jXMnjcZZl"
   },
   "outputs": [],
   "source": [
    "stopwordlist = ['title', 'body', 'xxxx']\n",
    "english_stopwords = get_stop_words(language='english')\n",
    "english_stopwords += stopwordlist\n",
    "english_stopwords = list(set(english_stopwords))+list(punctuation)"
   ]
  },
  {
   "cell_type": "code",
   "execution_count": 0,
   "metadata": {
    "colab": {},
    "colab_type": "code",
    "id": "mNLbQ6JKddTT"
   },
   "outputs": [],
   "source": [
    "def get_wordnet_pos(word):\n",
    "    if word.startswith('N'):\n",
    "        return wn.NOUN\n",
    "    elif word.startswith('V'):\n",
    "        return wn.VERB\n",
    "    elif word.startswith('J'):\n",
    "        return wn.ADJ\n",
    "    elif word.startswith('R'):\n",
    "        return wn.ADV\n",
    "    else:\n",
    "        return wn.NOUN"
   ]
  },
  {
   "cell_type": "code",
   "execution_count": 0,
   "metadata": {
    "colab": {},
    "colab_type": "code",
    "id": "wn9b8u2kbfZZ"
   },
   "outputs": [],
   "source": [
    "def tfidf_preprocess(text):\n",
    "    lemmatizer = nltk.WordNetLemmatizer().lemmatize\n",
    "    text = re.sub('\\W+', ' ', str(text))\n",
    "    text = re.sub(r'[0-9]+', '', text.lower())\n",
    "    word_pos = nltk.pos_tag(nltk.word_tokenize(text))\n",
    "    normalized_text_lst = [lemmatizer(x[0], get_wordnet_pos(x[1])).lower() for x in word_pos]\n",
    "    stop_words_free = [i for i in normalized_text_lst if i not in english_stopwords and len(i) > 3]\n",
    "    stop_words_free = list(set(stop_words_free))\n",
    "    return(stop_words_free)"
   ]
  },
  {
   "cell_type": "code",
   "execution_count": 0,
   "metadata": {
    "colab": {},
    "colab_type": "code",
    "id": "JzkKRatDazVx"
   },
   "outputs": [],
   "source": [
    "data['Consumer complaint narrative'] = data['Consumer complaint narrative'].apply(tfidf_preprocess)"
   ]
  },
  {
   "cell_type": "code",
   "execution_count": 0,
   "metadata": {
    "colab": {},
    "colab_type": "code",
    "id": "0geHg-CedPkX"
   },
   "outputs": [],
   "source": [
    "data.to_csv(\"/content/drive/My Drive/Consumer Complaints/output_final_data.csv\", index=False)"
   ]
  },
  {
   "cell_type": "code",
   "execution_count": 0,
   "metadata": {
    "colab": {},
    "colab_type": "code",
    "id": "BKGh1XkqedQU"
   },
   "outputs": [],
   "source": [
    "data = pd.read_csv('/content/drive/My Drive/Consumer Complaints/output_final_data.csv',converters={\"Consumer complaint narrative\": literal_eval})"
   ]
  },
  {
   "cell_type": "code",
   "execution_count": 27,
   "metadata": {
    "colab": {
     "base_uri": "https://localhost:8080/",
     "height": 84
    },
    "colab_type": "code",
    "id": "__NOMETnuIyv",
    "outputId": "d0680aca-3a42-45db-ca6b-480a97840dcf"
   },
   "outputs": [
    {
     "data": {
      "text/plain": [
       "array(['debt collection',\n",
       "       'credit reporting, credit repair services, or other personal consumer reports',\n",
       "       'bank account or service', 'mortgage',\n",
       "       'credit card or prepaid card', 'loans'], dtype=object)"
      ]
     },
     "execution_count": 27,
     "metadata": {
      "tags": []
     },
     "output_type": "execute_result"
    }
   ],
   "source": [
    "data['Product'].unique()"
   ]
  },
  {
   "cell_type": "code",
   "execution_count": 28,
   "metadata": {
    "colab": {
     "base_uri": "https://localhost:8080/",
     "height": 195
    },
    "colab_type": "code",
    "id": "5o2N22jyerK2",
    "outputId": "ca35772c-690f-455d-b94f-d32bcf186960"
   },
   "outputs": [
    {
     "data": {
      "text/html": [
       "<div>\n",
       "<style scoped>\n",
       "    .dataframe tbody tr th:only-of-type {\n",
       "        vertical-align: middle;\n",
       "    }\n",
       "\n",
       "    .dataframe tbody tr th {\n",
       "        vertical-align: top;\n",
       "    }\n",
       "\n",
       "    .dataframe thead th {\n",
       "        text-align: right;\n",
       "    }\n",
       "</style>\n",
       "<table border=\"1\" class=\"dataframe\">\n",
       "  <thead>\n",
       "    <tr style=\"text-align: right;\">\n",
       "      <th></th>\n",
       "      <th>Product</th>\n",
       "      <th>Consumer complaint narrative</th>\n",
       "    </tr>\n",
       "  </thead>\n",
       "  <tbody>\n",
       "    <tr>\n",
       "      <th>0</th>\n",
       "      <td>debt collection</td>\n",
       "      <td>[credit, call, agency, associate, sign, commit...</td>\n",
       "    </tr>\n",
       "    <tr>\n",
       "      <th>1</th>\n",
       "      <td>credit reporting, credit repair services, or o...</td>\n",
       "      <td>[credit, call, agency, information, help, mult...</td>\n",
       "    </tr>\n",
       "    <tr>\n",
       "      <th>2</th>\n",
       "      <td>bank account or service</td>\n",
       "      <td>[send, time, call, account, numerous, draft, s...</td>\n",
       "    </tr>\n",
       "    <tr>\n",
       "      <th>3</th>\n",
       "      <td>debt collection</td>\n",
       "      <td>[credit, name, call, agency, experience, repor...</td>\n",
       "    </tr>\n",
       "    <tr>\n",
       "      <th>4</th>\n",
       "      <td>debt collection</td>\n",
       "      <td>[credit, send, account, bill, show, informatio...</td>\n",
       "    </tr>\n",
       "  </tbody>\n",
       "</table>\n",
       "</div>"
      ],
      "text/plain": [
       "                                             Product                       Consumer complaint narrative\n",
       "0                                    debt collection  [credit, call, agency, associate, sign, commit...\n",
       "1  credit reporting, credit repair services, or o...  [credit, call, agency, information, help, mult...\n",
       "2                            bank account or service  [send, time, call, account, numerous, draft, s...\n",
       "3                                    debt collection  [credit, name, call, agency, experience, repor...\n",
       "4                                    debt collection  [credit, send, account, bill, show, informatio..."
      ]
     },
     "execution_count": 28,
     "metadata": {
      "tags": []
     },
     "output_type": "execute_result"
    }
   ],
   "source": [
    "data.head()"
   ]
  },
  {
   "cell_type": "code",
   "execution_count": 29,
   "metadata": {
    "colab": {
     "base_uri": "https://localhost:8080/",
     "height": 34
    },
    "colab_type": "code",
    "id": "ZaAT9KGVe8vi",
    "outputId": "7cd0e9f1-56d2-47fe-f4c2-ad1bfe2d80ab"
   },
   "outputs": [
    {
     "data": {
      "text/plain": [
       "(387831, 2)"
      ]
     },
     "execution_count": 29,
     "metadata": {
      "tags": []
     },
     "output_type": "execute_result"
    }
   ],
   "source": [
    "data.shape"
   ]
  },
  {
   "cell_type": "code",
   "execution_count": 0,
   "metadata": {
    "colab": {},
    "colab_type": "code",
    "id": "RH7ls7JJetVu"
   },
   "outputs": [],
   "source": [
    "data = data[data.astype(str)['Consumer complaint narrative'] != '[]']"
   ]
  },
  {
   "cell_type": "code",
   "execution_count": 31,
   "metadata": {
    "colab": {
     "base_uri": "https://localhost:8080/",
     "height": 34
    },
    "colab_type": "code",
    "id": "VR4AWNtMeuVH",
    "outputId": "8adaf3e7-6793-4b50-865a-a7feb5e573d9"
   },
   "outputs": [
    {
     "data": {
      "text/plain": [
       "(387816, 2)"
      ]
     },
     "execution_count": 31,
     "metadata": {
      "tags": []
     },
     "output_type": "execute_result"
    }
   ],
   "source": [
    "data.shape"
   ]
  },
  {
   "cell_type": "markdown",
   "metadata": {
    "colab_type": "text",
    "id": "_g73BzIEfD6A"
   },
   "source": [
    "###T**FIDF Vectorizer**\n",
    "\n"
   ]
  },
  {
   "cell_type": "code",
   "execution_count": 0,
   "metadata": {
    "colab": {},
    "colab_type": "code",
    "id": "2TQ7o85sHbx9"
   },
   "outputs": [],
   "source": [
    "data_tfidf = data.copy()"
   ]
  },
  {
   "cell_type": "code",
   "execution_count": 0,
   "metadata": {
    "colab": {},
    "colab_type": "code",
    "id": "YKquwOFpeuPz"
   },
   "outputs": [],
   "source": [
    "min_word_count = 10"
   ]
  },
  {
   "cell_type": "code",
   "execution_count": 0,
   "metadata": {
    "colab": {},
    "colab_type": "code",
    "id": "Vl4v9DXdeuOf"
   },
   "outputs": [],
   "source": [
    "le = LabelEncoder()\n",
    "data_tfidf[\"Product\"] = le.fit_transform(data_tfidf[\"Product\"])\n"
   ]
  },
  {
   "cell_type": "code",
   "execution_count": 35,
   "metadata": {
    "colab": {
     "base_uri": "https://localhost:8080/",
     "height": 195
    },
    "colab_type": "code",
    "id": "wWNPsjkctTPD",
    "outputId": "a8e67776-80ac-4934-9ad8-361baab78575"
   },
   "outputs": [
    {
     "data": {
      "text/html": [
       "<div>\n",
       "<style scoped>\n",
       "    .dataframe tbody tr th:only-of-type {\n",
       "        vertical-align: middle;\n",
       "    }\n",
       "\n",
       "    .dataframe tbody tr th {\n",
       "        vertical-align: top;\n",
       "    }\n",
       "\n",
       "    .dataframe thead th {\n",
       "        text-align: right;\n",
       "    }\n",
       "</style>\n",
       "<table border=\"1\" class=\"dataframe\">\n",
       "  <thead>\n",
       "    <tr style=\"text-align: right;\">\n",
       "      <th></th>\n",
       "      <th>Product</th>\n",
       "      <th>Consumer complaint narrative</th>\n",
       "    </tr>\n",
       "  </thead>\n",
       "  <tbody>\n",
       "    <tr>\n",
       "      <th>0</th>\n",
       "      <td>3</td>\n",
       "      <td>[credit, call, agency, associate, sign, commit...</td>\n",
       "    </tr>\n",
       "    <tr>\n",
       "      <th>1</th>\n",
       "      <td>2</td>\n",
       "      <td>[credit, call, agency, information, help, mult...</td>\n",
       "    </tr>\n",
       "    <tr>\n",
       "      <th>2</th>\n",
       "      <td>0</td>\n",
       "      <td>[send, time, call, account, numerous, draft, s...</td>\n",
       "    </tr>\n",
       "    <tr>\n",
       "      <th>3</th>\n",
       "      <td>3</td>\n",
       "      <td>[credit, name, call, agency, experience, repor...</td>\n",
       "    </tr>\n",
       "    <tr>\n",
       "      <th>4</th>\n",
       "      <td>3</td>\n",
       "      <td>[credit, send, account, bill, show, informatio...</td>\n",
       "    </tr>\n",
       "  </tbody>\n",
       "</table>\n",
       "</div>"
      ],
      "text/plain": [
       "   Product                       Consumer complaint narrative\n",
       "0        3  [credit, call, agency, associate, sign, commit...\n",
       "1        2  [credit, call, agency, information, help, mult...\n",
       "2        0  [send, time, call, account, numerous, draft, s...\n",
       "3        3  [credit, name, call, agency, experience, repor...\n",
       "4        3  [credit, send, account, bill, show, informatio..."
      ]
     },
     "execution_count": 35,
     "metadata": {
      "tags": []
     },
     "output_type": "execute_result"
    }
   ],
   "source": [
    "data_tfidf.head()"
   ]
  },
  {
   "cell_type": "code",
   "execution_count": 0,
   "metadata": {
    "colab": {},
    "colab_type": "code",
    "id": "de_aYqcWeuKn"
   },
   "outputs": [],
   "source": [
    "data_tfidf['Consumer complaint narrative'] = data_tfidf['Consumer complaint narrative'].apply(lambda x: ' '.join(x))\n"
   ]
  },
  {
   "cell_type": "code",
   "execution_count": 0,
   "metadata": {
    "colab": {},
    "colab_type": "code",
    "id": "jdtviLc_euII"
   },
   "outputs": [],
   "source": [
    "tfidf = TfidfVectorizer(max_features=1500, sublinear_tf=True, min_df=5, norm='l2', encoding='latin-1',stop_words='english')"
   ]
  },
  {
   "cell_type": "code",
   "execution_count": 0,
   "metadata": {
    "colab": {},
    "colab_type": "code",
    "id": "2JBgoMTGeuFj"
   },
   "outputs": [],
   "source": [
    "vector= tfidf.fit_transform(data_tfidf[\"Consumer complaint narrative\"])"
   ]
  },
  {
   "cell_type": "code",
   "execution_count": 0,
   "metadata": {
    "colab": {},
    "colab_type": "code",
    "id": "iu1FGOfbet_u"
   },
   "outputs": [],
   "source": [
    "X = vector.toarray()"
   ]
  },
  {
   "cell_type": "code",
   "execution_count": 0,
   "metadata": {
    "colab": {},
    "colab_type": "code",
    "id": "OgpbpWD9qlz6"
   },
   "outputs": [],
   "source": [
    "y = data_tfidf[\"Product\"]"
   ]
  },
  {
   "cell_type": "code",
   "execution_count": 0,
   "metadata": {
    "colab": {},
    "colab_type": "code",
    "id": "fhcy9Yj_hhj-"
   },
   "outputs": [],
   "source": [
    "X_train,X_test,y_train,y_test=tts(X,y,test_size=0.3,random_state=42)"
   ]
  },
  {
   "cell_type": "code",
   "execution_count": 0,
   "metadata": {
    "colab": {},
    "colab_type": "code",
    "id": "uCRX_vv3iTuj"
   },
   "outputs": [],
   "source": [
    "def plot_confusion_matrix(cm, classes,\n",
    "                          normalize=False,\n",
    "                          title='Confusion matrix',\n",
    "                          cmap=plt.cm.Blues):\n",
    "    \"\"\"\n",
    "    This function prints and plots the confusion matrix.\n",
    "    Normalization can be applied by setting `normalize=True`.\n",
    "    \"\"\"\n",
    "    if normalize:\n",
    "        cm = cm.astype('float') / cm.sum(axis=1)[:, np.newaxis]\n",
    "        print(\"Normalized confusion matrix\")\n",
    "    else:\n",
    "        print('Confusion matrix, without normalization')\n",
    "\n",
    "    #print(cm)\n",
    "\n",
    "    plt.imshow(cm, interpolation='nearest', cmap=cmap)\n",
    "    plt.title(title)\n",
    "    plt.colorbar()\n",
    "    tick_marks = np.arange(len(classes))\n",
    "    plt.xticks(tick_marks, classes, rotation=45)\n",
    "    plt.yticks(tick_marks, classes)\n",
    "\n",
    "    fmt = '.2f' if normalize else 'd'\n",
    "    thresh = cm.max() / 2.\n",
    "    for i, j in itertools.product(range(cm.shape[0]), range(cm.shape[1])):\n",
    "        plt.text(j, i, format(cm[i, j], fmt),\n",
    "                 horizontalalignment=\"center\",\n",
    "                 color=\"white\" if cm[i, j] > thresh else \"black\")\n",
    "\n",
    "    plt.ylabel('True label')\n",
    "    plt.xlabel('Predicted label')\n",
    "    plt.tight_layout()"
   ]
  },
  {
   "cell_type": "markdown",
   "metadata": {
    "colab_type": "text",
    "id": "kW-Yp6jJhlUU"
   },
   "source": [
    "###**Multinomial NB**"
   ]
  },
  {
   "cell_type": "code",
   "execution_count": 0,
   "metadata": {
    "colab": {},
    "colab_type": "code",
    "id": "Yauk62HyhVF9"
   },
   "outputs": [],
   "source": [
    "def Model_MultinomialNB(X_train,y_train,X_test,y_test):\n",
    "    mnb = MultinomialNB()\n",
    "    mnb.fit(X_train,y_train)\n",
    "    print(\"Test Accuracy for Multinomial NB:\",mnb.score(X_test, y_test))\n",
    "    \n",
    "    #Confusion Matrix  \n",
    "    y_pred=mnb.predict(X_test)\n",
    "    cnf_matrix = confusion_matrix(y_test, y_pred)\n",
    "    np.set_printoptions(precision=2)\n",
    "    plt.figure()\n",
    "    target_names =['bank account or service', 'credit card or prepaid card', 'credit reporting, credit repair services, or other personal consumer reports','debt collection','Loans','mortgage']\n",
    "    plot_confusion_matrix(cnf_matrix, classes=target_names,\n",
    "                      title='Confusion matrix, without normalization')\n",
    "    plt.show()\n",
    "\n",
    "    #Classification report\n",
    "    print(classification_report(y_test,y_pred, target_names=target_names))"
   ]
  },
  {
   "cell_type": "markdown",
   "metadata": {
    "colab_type": "text",
    "id": "b-p-P7qpvQMh"
   },
   "source": [
    "###**Support vector Machine**"
   ]
  },
  {
   "cell_type": "code",
   "execution_count": 0,
   "metadata": {
    "colab": {},
    "colab_type": "code",
    "id": "WVNayUSYvP1z"
   },
   "outputs": [],
   "source": [
    "def Model_SVC(X_train,y_train,X_test,y_test):\n",
    "    svc_model = LinearSVC()\n",
    "    svc_model.fit(X_train,y_train)\n",
    "    print(\"Test Accuracy for Support Vector Machine:\",svc_model.score(X_test, y_test))\n",
    "    \n",
    "    #Confusion Matrix  \n",
    "    y_pred=svc_model.predict(X_test)\n",
    "    cnf_matrix = confusion_matrix(y_test, y_pred)\n",
    "    np.set_printoptions(precision=2)\n",
    "    plt.figure()\n",
    "    target_names =['bank account or service', 'credit card or prepaid card', 'credit reporting, credit repair services, or other personal consumer reports','debt collection','Loans','mortgage']\n",
    "    plot_confusion_matrix(cnf_matrix, classes=target_names,\n",
    "                      title='Confusion matrix, without normalization')\n",
    "    plt.show()\n",
    "\n",
    "    #Classification report\n",
    "    print(classification_report(y_test,y_pred, target_names=target_names))"
   ]
  },
  {
   "cell_type": "markdown",
   "metadata": {
    "colab_type": "text",
    "id": "IMCQ3U6hjbV3"
   },
   "source": [
    "###**Random Forest**"
   ]
  },
  {
   "cell_type": "code",
   "execution_count": 0,
   "metadata": {
    "colab": {},
    "colab_type": "code",
    "id": "f-E7TwyJiFlL"
   },
   "outputs": [],
   "source": [
    "def Model_RandomForest(X_train,y_train,X_test,y_test):\n",
    "    rf = RandomForestClassifier(n_estimators = 100, max_features='sqrt', verbose=1,random_state=42,n_jobs =-1)\n",
    "    rf.fit(X_train,y_train)\n",
    "    print(\"Test Accuracy for Random Forest:\",rf.score(X_test, y_test))\n",
    "    \n",
    "    #Confusion Matrix  \n",
    "    y_pred=rf.predict(X_test)\n",
    "    cnf_matrix = confusion_matrix(y_test, y_pred)\n",
    "    np.set_printoptions(precision=2)\n",
    "    plt.figure()\n",
    "    target_names =['bank account or service', 'credit card or prepaid card', 'credit reporting, credit repair services, or other personal consumer reports','debt collection','Loans','mortgage']\n",
    "    plot_confusion_matrix(cnf_matrix, classes=target_names,\n",
    "                      title='Confusion matrix, without normalization')\n",
    "    plt.show()\n",
    "\n",
    "    #Classification report\n",
    "    print(classification_report(y_test,y_pred, target_names=target_names))"
   ]
  },
  {
   "cell_type": "markdown",
   "metadata": {
    "colab_type": "text",
    "id": "X42fMS8t_8tY"
   },
   "source": [
    "###**Random Forest, Multinomial NB and support vector machine with TFIDF**"
   ]
  },
  {
   "cell_type": "code",
   "execution_count": 46,
   "metadata": {
    "colab": {
     "base_uri": "https://localhost:8080/",
     "height": 809
    },
    "colab_type": "code",
    "id": "DJSZaRRxsvqO",
    "outputId": "451b3603-b91b-40ca-cd73-603dc857a8f0"
   },
   "outputs": [
    {
     "name": "stdout",
     "output_type": "stream",
     "text": [
      "Test Accuracy for Multinomial NB: 0.7787270617559844\n",
      "Confusion matrix, without normalization\n"
     ]
    },
    {
     "data": {
      "image/png": "[encoded data removed]",
      "text/plain": [
       "<Figure size 432x288 with 2 Axes>"
      ]
     },
     "metadata": {
      "tags": []
     },
     "output_type": "display_data"
    },
    {
     "name": "stdout",
     "output_type": "stream",
     "text": [
      "                                                                              precision    recall  f1-score   support\n",
      "\n",
      "                                                     bank account or service       0.83      0.68      0.75      8446\n",
      "                                                 credit card or prepaid card       0.73      0.68      0.70     12944\n",
      "credit reporting, credit repair services, or other personal consumer reports       0.76      0.87      0.81     38762\n",
      "                                                             debt collection       0.78      0.72      0.75     26793\n",
      "                                                                       Loans       0.77      0.66      0.71     13249\n",
      "                                                                    mortgage       0.86      0.88      0.87     16151\n",
      "\n",
      "                                                                    accuracy                           0.78    116345\n",
      "                                                                   macro avg       0.79      0.75      0.76    116345\n",
      "                                                                weighted avg       0.78      0.78      0.78    116345\n",
      "\n"
     ]
    }
   ],
   "source": [
    "Model_MultinomialNB(X_train,y_train,X_test,y_test)"
   ]
  },
  {
   "cell_type": "code",
   "execution_count": 47,
   "metadata": {
    "colab": {
     "base_uri": "https://localhost:8080/",
     "height": 960
    },
    "colab_type": "code",
    "id": "gg3mGJQvsygQ",
    "outputId": "7b312f4d-0a59-4029-d40e-575509b73e71"
   },
   "outputs": [
    {
     "name": "stderr",
     "output_type": "stream",
     "text": [
      "[Parallel(n_jobs=-1)]: Using backend ThreadingBackend with 4 concurrent workers.\n",
      "[Parallel(n_jobs=-1)]: Done  42 tasks      | elapsed:  1.4min\n",
      "[Parallel(n_jobs=-1)]: Done 100 out of 100 | elapsed:  3.1min finished\n",
      "[Parallel(n_jobs=4)]: Using backend ThreadingBackend with 4 concurrent workers.\n",
      "[Parallel(n_jobs=4)]: Done  42 tasks      | elapsed:    1.5s\n",
      "[Parallel(n_jobs=4)]: Done 100 out of 100 | elapsed:    3.5s finished\n"
     ]
    },
    {
     "name": "stdout",
     "output_type": "stream",
     "text": [
      "Test Accuracy for Random Forest: 0.8484507284369762\n"
     ]
    },
    {
     "name": "stderr",
     "output_type": "stream",
     "text": [
      "[Parallel(n_jobs=4)]: Using backend ThreadingBackend with 4 concurrent workers.\n",
      "[Parallel(n_jobs=4)]: Done  42 tasks      | elapsed:    1.6s\n",
      "[Parallel(n_jobs=4)]: Done 100 out of 100 | elapsed:    3.6s finished\n"
     ]
    },
    {
     "name": "stdout",
     "output_type": "stream",
     "text": [
      "Confusion matrix, without normalization\n"
     ]
    },
    {
     "data": {
      "image/png": "[encoded data removed]",
      "text/plain": [
       "<Figure size 432x288 with 2 Axes>"
      ]
     },
     "metadata": {
      "tags": []
     },
     "output_type": "display_data"
    },
    {
     "name": "stdout",
     "output_type": "stream",
     "text": [
      "                                                                              precision    recall  f1-score   support\n",
      "\n",
      "                                                     bank account or service       0.83      0.79      0.81      8446\n",
      "                                                 credit card or prepaid card       0.82      0.76      0.79     12944\n",
      "credit reporting, credit repair services, or other personal consumer reports       0.85      0.92      0.88     38762\n",
      "                                                             debt collection       0.83      0.84      0.83     26793\n",
      "                                                                       Loans       0.83      0.72      0.77     13249\n",
      "                                                                    mortgage       0.91      0.90      0.91     16151\n",
      "\n",
      "                                                                    accuracy                           0.85    116345\n",
      "                                                                   macro avg       0.85      0.82      0.83    116345\n",
      "                                                                weighted avg       0.85      0.85      0.85    116345\n",
      "\n"
     ]
    }
   ],
   "source": [
    "Model_RandomForest(X_train,y_train,X_test,y_test)"
   ]
  },
  {
   "cell_type": "code",
   "execution_count": 48,
   "metadata": {
    "colab": {
     "base_uri": "https://localhost:8080/",
     "height": 809
    },
    "colab_type": "code",
    "id": "Uo3P8CrYvoi2",
    "outputId": "2288bb1f-9905-4b29-fb47-45432e9e666c"
   },
   "outputs": [
    {
     "name": "stdout",
     "output_type": "stream",
     "text": [
      "Test Accuracy for Support Vector Machine: 0.829532854871288\n",
      "Confusion matrix, without normalization\n"
     ]
    },
    {
     "data": {
      "image/png": "[encoded data removed]",
      "text/plain": [
       "<Figure size 432x288 with 2 Axes>"
      ]
     },
     "metadata": {
      "tags": []
     },
     "output_type": "display_data"
    },
    {
     "name": "stdout",
     "output_type": "stream",
     "text": [
      "                                                                              precision    recall  f1-score   support\n",
      "\n",
      "                                                     bank account or service       0.81      0.82      0.82      8446\n",
      "                                                 credit card or prepaid card       0.78      0.78      0.78     12944\n",
      "credit reporting, credit repair services, or other personal consumer reports       0.85      0.84      0.85     38762\n",
      "                                                             debt collection       0.80      0.82      0.81     26793\n",
      "                                                                       Loans       0.79      0.76      0.77     13249\n",
      "                                                                    mortgage       0.90      0.92      0.91     16151\n",
      "\n",
      "                                                                    accuracy                           0.83    116345\n",
      "                                                                   macro avg       0.82      0.82      0.82    116345\n",
      "                                                                weighted avg       0.83      0.83      0.83    116345\n",
      "\n"
     ]
    }
   ],
   "source": [
    "Model_SVC(X_train,y_train,X_test,y_test)"
   ]
  },
  {
   "cell_type": "markdown",
   "metadata": {
    "colab_type": "text",
    "id": "kSq2XxQmAFn2"
   },
   "source": [
    "###**Word2Vec**"
   ]
  },
  {
   "cell_type": "code",
   "execution_count": 0,
   "metadata": {
    "colab": {},
    "colab_type": "code",
    "id": "o7kH1OnTAzTX"
   },
   "outputs": [],
   "source": [
    "def get_average_word2vec(complaints_lst, model, num_features=300):\n",
    "    index2word_set = set(model.wv.index2word)\n",
    "    vectorized_lst = []\n",
    "    vectorized_lst = [model[word] if word in index2word_set else np.zeros(num_features) for word in \\\n",
    "                      complaints_lst]    \n",
    "    nwords = len(vectorized_lst)\n",
    "    summed = np.sum(vectorized_lst, axis=0)\n",
    "    averaged_vector = np.divide(summed, nwords)\n",
    "    return averaged_vector"
   ]
  },
  {
   "cell_type": "code",
   "execution_count": 0,
   "metadata": {
    "colab": {},
    "colab_type": "code",
    "id": "Xes0pGElASH-"
   },
   "outputs": [],
   "source": [
    "data_word2vec = data.copy()\n",
    "vocabulary_of_all_words = data_word2vec['Consumer complaint narrative'].tolist()\n",
    "num_features = 300\n",
    "min_word_count = 10                      \n",
    "num_workers = 8\n",
    "context = 10          # Context window size                                                                                    \n",
    "downsampling = 1e-3   # Downsampling for frequent words\n",
    "word2vec_model_name = \"/content/drive/My Drive/Consumer Complaints/300features_10minwords_10context\"\n",
    "word2vec_complaints = word2vec.Word2Vec(vocabulary_of_all_words, workers=num_workers, size=num_features, \n",
    "                                   min_count=min_word_count, window=context, sample=downsampling)\n",
    "word2vec_complaints.save(word2vec_model_name)"
   ]
  },
  {
   "cell_type": "code",
   "execution_count": 0,
   "metadata": {
    "colab": {},
    "colab_type": "code",
    "id": "plF10vyRAppE"
   },
   "outputs": [],
   "source": [
    "word2vec_complaints = gensim.models.Word2Vec.load(word2vec_model_name)"
   ]
  },
  {
   "cell_type": "code",
   "execution_count": 0,
   "metadata": {
    "colab": {},
    "colab_type": "code",
    "id": "nX9YbNKLAplp"
   },
   "outputs": [],
   "source": [
    "vocab_lst_flat = [item for sublist in vocabulary_of_all_words for item in sublist]\n",
    "vocab_lst_flat = list(set(vocab_lst_flat))"
   ]
  },
  {
   "cell_type": "code",
   "execution_count": 53,
   "metadata": {
    "colab": {
     "base_uri": "https://localhost:8080/",
     "height": 34
    },
    "colab_type": "code",
    "id": "ckWQA4xsApie",
    "outputId": "40f8255d-f64e-4b54-cf1d-aba51c0a8fe6"
   },
   "outputs": [
    {
     "name": "stdout",
     "output_type": "stream",
     "text": [
      "15217 81848 97065\n"
     ]
    }
   ],
   "source": [
    "try:\n",
    "    word2vec_complaints.wv.most_similar(\"good\")\n",
    "except KeyError:\n",
    "    print(\"Sorry, this word doesn't exist in the vocabulary.\")\n",
    "    \n",
    "words_not_present = 0\n",
    "words_present = 0\n",
    "total_unique_tokens = len(set(vocab_lst_flat))\n",
    "missing_words = []\n",
    "for i in vocab_lst_flat:\n",
    "    try:\n",
    "        p = word2vec_complaints[i]\n",
    "        words_present+=1\n",
    "    except KeyError:\n",
    "        missing_words.append(i)\n",
    "        words_not_present+=1\n",
    "print(words_present, words_not_present, total_unique_tokens)"
   ]
  },
  {
   "cell_type": "code",
   "execution_count": 54,
   "metadata": {
    "colab": {
     "base_uri": "https://localhost:8080/",
     "height": 54
    },
    "colab_type": "code",
    "id": "HcxslHzBApfZ",
    "outputId": "2d16c497-cda3-4712-b8d0-4d7ca293ea7c"
   },
   "outputs": [
    {
     "name": "stdout",
     "output_type": "stream",
     "text": [
      "['nessee', 'repand', 'unpalatable', 'respondedxxxx', 'rport', 'lindsays', 'responbile', 'excersise', 'attach_', 'beendelinquent', 'meantim', 'havebenefitedby', 'withthese', 'emaile', 'venripro', 'modist', 'esclations', 'addemdum', 'subds', 'tips']\n"
     ]
    }
   ],
   "source": [
    "print(missing_words[:20])"
   ]
  },
  {
   "cell_type": "code",
   "execution_count": 0,
   "metadata": {
    "colab": {},
    "colab_type": "code",
    "id": "w4mB_xhnoLV1"
   },
   "outputs": [],
   "source": [
    "embeddings_df = data_word2vec['Consumer complaint narrative'].apply(lambda complaint: get_average_word2vec(complaint, word2vec_complaints, num_features)).to_frame()"
   ]
  },
  {
   "cell_type": "code",
   "execution_count": 63,
   "metadata": {
    "colab": {
     "base_uri": "https://localhost:8080/",
     "height": 195
    },
    "colab_type": "code",
    "id": "VkxmbNONo7t3",
    "outputId": "7a8fdc4c-71be-4905-d0e4-e360901f0e8b"
   },
   "outputs": [
    {
     "data": {
      "text/html": [
       "<div>\n",
       "<style scoped>\n",
       "    .dataframe tbody tr th:only-of-type {\n",
       "        vertical-align: middle;\n",
       "    }\n",
       "\n",
       "    .dataframe tbody tr th {\n",
       "        vertical-align: top;\n",
       "    }\n",
       "\n",
       "    .dataframe thead th {\n",
       "        text-align: right;\n",
       "    }\n",
       "</style>\n",
       "<table border=\"1\" class=\"dataframe\">\n",
       "  <thead>\n",
       "    <tr style=\"text-align: right;\">\n",
       "      <th></th>\n",
       "      <th>Consumer complaint narrative</th>\n",
       "    </tr>\n",
       "  </thead>\n",
       "  <tbody>\n",
       "    <tr>\n",
       "      <th>0</th>\n",
       "      <td>[0.9471367004772892, 0.7979679894836053, -0.03...</td>\n",
       "    </tr>\n",
       "    <tr>\n",
       "      <th>1</th>\n",
       "      <td>[0.346503, 0.30323634, -0.37221718, 0.39138225...</td>\n",
       "    </tr>\n",
       "    <tr>\n",
       "      <th>2</th>\n",
       "      <td>[0.6027165761595825, 0.21563738957047462, -0.1...</td>\n",
       "    </tr>\n",
       "    <tr>\n",
       "      <th>3</th>\n",
       "      <td>[-0.011071595, 0.24715567, -0.29448014, 0.4220...</td>\n",
       "    </tr>\n",
       "    <tr>\n",
       "      <th>4</th>\n",
       "      <td>[-0.24729402370212483, -0.14960658084601164, 0...</td>\n",
       "    </tr>\n",
       "  </tbody>\n",
       "</table>\n",
       "</div>"
      ],
      "text/plain": [
       "                        Consumer complaint narrative\n",
       "0  [0.9471367004772892, 0.7979679894836053, -0.03...\n",
       "1  [0.346503, 0.30323634, -0.37221718, 0.39138225...\n",
       "2  [0.6027165761595825, 0.21563738957047462, -0.1...\n",
       "3  [-0.011071595, 0.24715567, -0.29448014, 0.4220...\n",
       "4  [-0.24729402370212483, -0.14960658084601164, 0..."
      ]
     },
     "execution_count": 63,
     "metadata": {
      "tags": []
     },
     "output_type": "execute_result"
    }
   ],
   "source": [
    "embeddings_df.head()"
   ]
  },
  {
   "cell_type": "code",
   "execution_count": 0,
   "metadata": {
    "colab": {},
    "colab_type": "code",
    "id": "WJ9yfmphrwv7"
   },
   "outputs": [],
   "source": [
    "col_lst = []\n",
    "for i in range(num_features):\n",
    "    col_lst.append('vec_'+str(i+1))"
   ]
  },
  {
   "cell_type": "code",
   "execution_count": 0,
   "metadata": {
    "colab": {},
    "colab_type": "code",
    "id": "KIDVEQ3er3Ju"
   },
   "outputs": [],
   "source": [
    "exploded_em_df = pd.DataFrame(embeddings_df['Consumer complaint narrative'].tolist(), columns=col_lst)"
   ]
  },
  {
   "cell_type": "code",
   "execution_count": 0,
   "metadata": {
    "colab": {},
    "colab_type": "code",
    "id": "i_Nk7GEMr5cO"
   },
   "outputs": [],
   "source": [
    "exploded_em_df = pd.DataFrame(embeddings_df['Consumer complaint narrative'].apply(pd.Series))"
   ]
  },
  {
   "cell_type": "code",
   "execution_count": 69,
   "metadata": {
    "colab": {
     "base_uri": "https://localhost:8080/",
     "height": 244
    },
    "colab_type": "code",
    "id": "LM1q5KmOr7p8",
    "outputId": "5274865b-93e8-400a-cb12-dcab8b3d1ed2"
   },
   "outputs": [
    {
     "data": {
      "text/html": [
       "<div>\n",
       "<style scoped>\n",
       "    .dataframe tbody tr th:only-of-type {\n",
       "        vertical-align: middle;\n",
       "    }\n",
       "\n",
       "    .dataframe tbody tr th {\n",
       "        vertical-align: top;\n",
       "    }\n",
       "\n",
       "    .dataframe thead th {\n",
       "        text-align: right;\n",
       "    }\n",
       "</style>\n",
       "<table border=\"1\" class=\"dataframe\">\n",
       "  <thead>\n",
       "    <tr style=\"text-align: right;\">\n",
       "      <th></th>\n",
       "      <th>0</th>\n",
       "      <th>1</th>\n",
       "      <th>2</th>\n",
       "      <th>3</th>\n",
       "      <th>4</th>\n",
       "      <th>5</th>\n",
       "      <th>6</th>\n",
       "      <th>7</th>\n",
       "      <th>8</th>\n",
       "      <th>9</th>\n",
       "      <th>10</th>\n",
       "      <th>11</th>\n",
       "      <th>12</th>\n",
       "      <th>13</th>\n",
       "      <th>14</th>\n",
       "      <th>15</th>\n",
       "      <th>16</th>\n",
       "      <th>17</th>\n",
       "      <th>18</th>\n",
       "      <th>19</th>\n",
       "      <th>20</th>\n",
       "      <th>21</th>\n",
       "      <th>22</th>\n",
       "      <th>23</th>\n",
       "      <th>24</th>\n",
       "      <th>25</th>\n",
       "      <th>26</th>\n",
       "      <th>27</th>\n",
       "      <th>28</th>\n",
       "      <th>29</th>\n",
       "      <th>30</th>\n",
       "      <th>31</th>\n",
       "      <th>32</th>\n",
       "      <th>33</th>\n",
       "      <th>34</th>\n",
       "      <th>35</th>\n",
       "      <th>36</th>\n",
       "      <th>37</th>\n",
       "      <th>38</th>\n",
       "      <th>39</th>\n",
       "      <th>...</th>\n",
       "      <th>260</th>\n",
       "      <th>261</th>\n",
       "      <th>262</th>\n",
       "      <th>263</th>\n",
       "      <th>264</th>\n",
       "      <th>265</th>\n",
       "      <th>266</th>\n",
       "      <th>267</th>\n",
       "      <th>268</th>\n",
       "      <th>269</th>\n",
       "      <th>270</th>\n",
       "      <th>271</th>\n",
       "      <th>272</th>\n",
       "      <th>273</th>\n",
       "      <th>274</th>\n",
       "      <th>275</th>\n",
       "      <th>276</th>\n",
       "      <th>277</th>\n",
       "      <th>278</th>\n",
       "      <th>279</th>\n",
       "      <th>280</th>\n",
       "      <th>281</th>\n",
       "      <th>282</th>\n",
       "      <th>283</th>\n",
       "      <th>284</th>\n",
       "      <th>285</th>\n",
       "      <th>286</th>\n",
       "      <th>287</th>\n",
       "      <th>288</th>\n",
       "      <th>289</th>\n",
       "      <th>290</th>\n",
       "      <th>291</th>\n",
       "      <th>292</th>\n",
       "      <th>293</th>\n",
       "      <th>294</th>\n",
       "      <th>295</th>\n",
       "      <th>296</th>\n",
       "      <th>297</th>\n",
       "      <th>298</th>\n",
       "      <th>299</th>\n",
       "    </tr>\n",
       "  </thead>\n",
       "  <tbody>\n",
       "    <tr>\n",
       "      <th>0</th>\n",
       "      <td>0.947137</td>\n",
       "      <td>0.797968</td>\n",
       "      <td>-0.030936</td>\n",
       "      <td>0.325574</td>\n",
       "      <td>0.328264</td>\n",
       "      <td>-0.063959</td>\n",
       "      <td>0.518907</td>\n",
       "      <td>0.700780</td>\n",
       "      <td>-0.572147</td>\n",
       "      <td>0.180646</td>\n",
       "      <td>-0.427725</td>\n",
       "      <td>0.770378</td>\n",
       "      <td>0.280004</td>\n",
       "      <td>-0.345742</td>\n",
       "      <td>0.020460</td>\n",
       "      <td>-0.264205</td>\n",
       "      <td>0.038950</td>\n",
       "      <td>-0.050022</td>\n",
       "      <td>0.410842</td>\n",
       "      <td>-0.675329</td>\n",
       "      <td>0.839332</td>\n",
       "      <td>0.379119</td>\n",
       "      <td>0.249163</td>\n",
       "      <td>-0.267121</td>\n",
       "      <td>-0.023081</td>\n",
       "      <td>0.308620</td>\n",
       "      <td>-0.020102</td>\n",
       "      <td>0.517519</td>\n",
       "      <td>-0.439591</td>\n",
       "      <td>-0.659038</td>\n",
       "      <td>0.007898</td>\n",
       "      <td>-0.051288</td>\n",
       "      <td>0.104583</td>\n",
       "      <td>-0.068355</td>\n",
       "      <td>0.095594</td>\n",
       "      <td>0.130207</td>\n",
       "      <td>0.062047</td>\n",
       "      <td>0.668240</td>\n",
       "      <td>0.222255</td>\n",
       "      <td>0.130468</td>\n",
       "      <td>...</td>\n",
       "      <td>0.234688</td>\n",
       "      <td>0.178829</td>\n",
       "      <td>0.086462</td>\n",
       "      <td>0.698007</td>\n",
       "      <td>-0.017392</td>\n",
       "      <td>0.347788</td>\n",
       "      <td>0.580184</td>\n",
       "      <td>0.044341</td>\n",
       "      <td>0.084879</td>\n",
       "      <td>0.806401</td>\n",
       "      <td>0.395428</td>\n",
       "      <td>0.070018</td>\n",
       "      <td>0.288851</td>\n",
       "      <td>0.359422</td>\n",
       "      <td>-0.270810</td>\n",
       "      <td>0.660588</td>\n",
       "      <td>0.024996</td>\n",
       "      <td>0.407959</td>\n",
       "      <td>0.490566</td>\n",
       "      <td>0.483582</td>\n",
       "      <td>0.764715</td>\n",
       "      <td>1.104238</td>\n",
       "      <td>-0.018630</td>\n",
       "      <td>-0.247769</td>\n",
       "      <td>0.000147</td>\n",
       "      <td>-0.087496</td>\n",
       "      <td>0.443121</td>\n",
       "      <td>-0.089405</td>\n",
       "      <td>0.049366</td>\n",
       "      <td>0.119993</td>\n",
       "      <td>0.323945</td>\n",
       "      <td>0.122406</td>\n",
       "      <td>-0.459337</td>\n",
       "      <td>-0.572419</td>\n",
       "      <td>-0.413979</td>\n",
       "      <td>0.568873</td>\n",
       "      <td>0.094099</td>\n",
       "      <td>0.314565</td>\n",
       "      <td>-0.201394</td>\n",
       "      <td>0.087419</td>\n",
       "    </tr>\n",
       "    <tr>\n",
       "      <th>1</th>\n",
       "      <td>0.346503</td>\n",
       "      <td>0.303236</td>\n",
       "      <td>-0.372217</td>\n",
       "      <td>0.391382</td>\n",
       "      <td>-0.123689</td>\n",
       "      <td>-0.039082</td>\n",
       "      <td>-0.102721</td>\n",
       "      <td>0.365666</td>\n",
       "      <td>-0.556957</td>\n",
       "      <td>0.368793</td>\n",
       "      <td>0.287114</td>\n",
       "      <td>0.417746</td>\n",
       "      <td>0.011604</td>\n",
       "      <td>0.152695</td>\n",
       "      <td>0.070894</td>\n",
       "      <td>0.122569</td>\n",
       "      <td>-0.362668</td>\n",
       "      <td>0.044491</td>\n",
       "      <td>0.091689</td>\n",
       "      <td>0.454121</td>\n",
       "      <td>0.416568</td>\n",
       "      <td>-0.080236</td>\n",
       "      <td>0.040214</td>\n",
       "      <td>-0.606339</td>\n",
       "      <td>0.560654</td>\n",
       "      <td>0.188586</td>\n",
       "      <td>-0.053478</td>\n",
       "      <td>-0.095007</td>\n",
       "      <td>-0.288335</td>\n",
       "      <td>-0.208826</td>\n",
       "      <td>0.013382</td>\n",
       "      <td>-0.156881</td>\n",
       "      <td>0.496778</td>\n",
       "      <td>-0.194981</td>\n",
       "      <td>0.020649</td>\n",
       "      <td>-0.249600</td>\n",
       "      <td>-0.272199</td>\n",
       "      <td>0.187005</td>\n",
       "      <td>-0.019485</td>\n",
       "      <td>-0.106376</td>\n",
       "      <td>...</td>\n",
       "      <td>-0.380186</td>\n",
       "      <td>0.171340</td>\n",
       "      <td>-0.373499</td>\n",
       "      <td>-0.070659</td>\n",
       "      <td>0.118852</td>\n",
       "      <td>0.076156</td>\n",
       "      <td>-0.079647</td>\n",
       "      <td>0.262490</td>\n",
       "      <td>-0.248086</td>\n",
       "      <td>0.300778</td>\n",
       "      <td>-0.009919</td>\n",
       "      <td>0.060713</td>\n",
       "      <td>0.437010</td>\n",
       "      <td>-0.406985</td>\n",
       "      <td>0.113912</td>\n",
       "      <td>0.124306</td>\n",
       "      <td>-0.021735</td>\n",
       "      <td>-0.230696</td>\n",
       "      <td>-0.107437</td>\n",
       "      <td>0.313559</td>\n",
       "      <td>0.067504</td>\n",
       "      <td>-0.219613</td>\n",
       "      <td>0.088254</td>\n",
       "      <td>-0.165316</td>\n",
       "      <td>-0.090705</td>\n",
       "      <td>-0.153628</td>\n",
       "      <td>0.541471</td>\n",
       "      <td>-0.590237</td>\n",
       "      <td>-0.109182</td>\n",
       "      <td>-0.092239</td>\n",
       "      <td>0.246691</td>\n",
       "      <td>-0.269896</td>\n",
       "      <td>-0.175584</td>\n",
       "      <td>-0.242937</td>\n",
       "      <td>0.024578</td>\n",
       "      <td>-0.118269</td>\n",
       "      <td>0.168241</td>\n",
       "      <td>0.154061</td>\n",
       "      <td>0.188385</td>\n",
       "      <td>-0.128660</td>\n",
       "    </tr>\n",
       "    <tr>\n",
       "      <th>2</th>\n",
       "      <td>0.602717</td>\n",
       "      <td>0.215637</td>\n",
       "      <td>-0.105109</td>\n",
       "      <td>-0.707172</td>\n",
       "      <td>-0.356494</td>\n",
       "      <td>-0.710269</td>\n",
       "      <td>-0.274683</td>\n",
       "      <td>-0.233497</td>\n",
       "      <td>-0.690138</td>\n",
       "      <td>-0.109448</td>\n",
       "      <td>0.896195</td>\n",
       "      <td>-0.420591</td>\n",
       "      <td>-0.070513</td>\n",
       "      <td>-0.858397</td>\n",
       "      <td>0.624172</td>\n",
       "      <td>-0.012132</td>\n",
       "      <td>-0.127305</td>\n",
       "      <td>0.000148</td>\n",
       "      <td>-0.414510</td>\n",
       "      <td>-0.454483</td>\n",
       "      <td>-0.216804</td>\n",
       "      <td>-0.035734</td>\n",
       "      <td>0.001337</td>\n",
       "      <td>0.181097</td>\n",
       "      <td>-0.417232</td>\n",
       "      <td>-0.296178</td>\n",
       "      <td>0.450816</td>\n",
       "      <td>-0.217483</td>\n",
       "      <td>0.543007</td>\n",
       "      <td>0.007233</td>\n",
       "      <td>-0.244287</td>\n",
       "      <td>-0.066502</td>\n",
       "      <td>0.580377</td>\n",
       "      <td>-0.672694</td>\n",
       "      <td>0.175977</td>\n",
       "      <td>0.810094</td>\n",
       "      <td>-0.110482</td>\n",
       "      <td>-0.093188</td>\n",
       "      <td>-0.088899</td>\n",
       "      <td>-0.185283</td>\n",
       "      <td>...</td>\n",
       "      <td>-0.091762</td>\n",
       "      <td>-0.058140</td>\n",
       "      <td>-0.061445</td>\n",
       "      <td>-0.162784</td>\n",
       "      <td>0.370719</td>\n",
       "      <td>0.056052</td>\n",
       "      <td>-0.001998</td>\n",
       "      <td>0.504208</td>\n",
       "      <td>-0.146694</td>\n",
       "      <td>0.207545</td>\n",
       "      <td>0.002446</td>\n",
       "      <td>-0.859417</td>\n",
       "      <td>-0.734845</td>\n",
       "      <td>-0.395253</td>\n",
       "      <td>1.323548</td>\n",
       "      <td>-0.392671</td>\n",
       "      <td>0.461727</td>\n",
       "      <td>-0.341981</td>\n",
       "      <td>0.113693</td>\n",
       "      <td>0.264209</td>\n",
       "      <td>0.330444</td>\n",
       "      <td>-0.869633</td>\n",
       "      <td>0.266686</td>\n",
       "      <td>0.432221</td>\n",
       "      <td>0.334894</td>\n",
       "      <td>-0.123034</td>\n",
       "      <td>-0.230814</td>\n",
       "      <td>-0.275854</td>\n",
       "      <td>0.081249</td>\n",
       "      <td>-0.387489</td>\n",
       "      <td>-0.335095</td>\n",
       "      <td>-0.220893</td>\n",
       "      <td>0.271718</td>\n",
       "      <td>-0.003779</td>\n",
       "      <td>0.047781</td>\n",
       "      <td>-0.283992</td>\n",
       "      <td>-0.387599</td>\n",
       "      <td>-0.452403</td>\n",
       "      <td>0.439226</td>\n",
       "      <td>-0.443428</td>\n",
       "    </tr>\n",
       "    <tr>\n",
       "      <th>3</th>\n",
       "      <td>-0.011072</td>\n",
       "      <td>0.247156</td>\n",
       "      <td>-0.294480</td>\n",
       "      <td>0.422079</td>\n",
       "      <td>0.461657</td>\n",
       "      <td>-0.761447</td>\n",
       "      <td>-0.182339</td>\n",
       "      <td>-0.289284</td>\n",
       "      <td>-0.011988</td>\n",
       "      <td>-0.234579</td>\n",
       "      <td>-0.028099</td>\n",
       "      <td>0.454353</td>\n",
       "      <td>0.191391</td>\n",
       "      <td>-0.651990</td>\n",
       "      <td>0.173564</td>\n",
       "      <td>0.092529</td>\n",
       "      <td>-0.162201</td>\n",
       "      <td>-0.301764</td>\n",
       "      <td>-0.140684</td>\n",
       "      <td>0.044114</td>\n",
       "      <td>0.594246</td>\n",
       "      <td>0.866858</td>\n",
       "      <td>0.076634</td>\n",
       "      <td>0.159238</td>\n",
       "      <td>0.284943</td>\n",
       "      <td>-0.099537</td>\n",
       "      <td>0.220469</td>\n",
       "      <td>0.159950</td>\n",
       "      <td>-0.412073</td>\n",
       "      <td>0.112449</td>\n",
       "      <td>0.183896</td>\n",
       "      <td>0.167631</td>\n",
       "      <td>0.667116</td>\n",
       "      <td>-0.089042</td>\n",
       "      <td>-0.252672</td>\n",
       "      <td>-0.055643</td>\n",
       "      <td>-0.335217</td>\n",
       "      <td>-0.015922</td>\n",
       "      <td>-0.027850</td>\n",
       "      <td>-0.199045</td>\n",
       "      <td>...</td>\n",
       "      <td>-0.646473</td>\n",
       "      <td>-0.209117</td>\n",
       "      <td>-0.039706</td>\n",
       "      <td>0.750582</td>\n",
       "      <td>-0.005598</td>\n",
       "      <td>0.240829</td>\n",
       "      <td>0.405978</td>\n",
       "      <td>0.791416</td>\n",
       "      <td>0.017423</td>\n",
       "      <td>0.414557</td>\n",
       "      <td>0.159703</td>\n",
       "      <td>0.074826</td>\n",
       "      <td>0.105072</td>\n",
       "      <td>-0.064181</td>\n",
       "      <td>0.391706</td>\n",
       "      <td>0.019175</td>\n",
       "      <td>-0.357031</td>\n",
       "      <td>0.035378</td>\n",
       "      <td>0.349715</td>\n",
       "      <td>0.437108</td>\n",
       "      <td>0.129767</td>\n",
       "      <td>0.043607</td>\n",
       "      <td>0.275251</td>\n",
       "      <td>0.269874</td>\n",
       "      <td>0.088628</td>\n",
       "      <td>0.053891</td>\n",
       "      <td>0.917821</td>\n",
       "      <td>-0.117185</td>\n",
       "      <td>-0.125556</td>\n",
       "      <td>-0.501329</td>\n",
       "      <td>0.239641</td>\n",
       "      <td>-0.099641</td>\n",
       "      <td>0.067811</td>\n",
       "      <td>-0.514687</td>\n",
       "      <td>0.213957</td>\n",
       "      <td>-0.065786</td>\n",
       "      <td>0.085711</td>\n",
       "      <td>-0.444779</td>\n",
       "      <td>0.069761</td>\n",
       "      <td>-0.258714</td>\n",
       "    </tr>\n",
       "    <tr>\n",
       "      <th>4</th>\n",
       "      <td>-0.247294</td>\n",
       "      <td>-0.149607</td>\n",
       "      <td>0.130453</td>\n",
       "      <td>-0.392330</td>\n",
       "      <td>0.717327</td>\n",
       "      <td>-1.027135</td>\n",
       "      <td>0.223010</td>\n",
       "      <td>-0.426988</td>\n",
       "      <td>-0.053654</td>\n",
       "      <td>0.412065</td>\n",
       "      <td>-0.582589</td>\n",
       "      <td>0.129513</td>\n",
       "      <td>1.559195</td>\n",
       "      <td>0.275356</td>\n",
       "      <td>-0.638029</td>\n",
       "      <td>-0.077253</td>\n",
       "      <td>-0.330036</td>\n",
       "      <td>0.211394</td>\n",
       "      <td>0.565011</td>\n",
       "      <td>0.521756</td>\n",
       "      <td>-0.652897</td>\n",
       "      <td>0.031698</td>\n",
       "      <td>-0.409630</td>\n",
       "      <td>-1.219217</td>\n",
       "      <td>-0.153522</td>\n",
       "      <td>-0.591173</td>\n",
       "      <td>0.319787</td>\n",
       "      <td>-0.009525</td>\n",
       "      <td>-0.468154</td>\n",
       "      <td>0.263078</td>\n",
       "      <td>0.179815</td>\n",
       "      <td>0.853124</td>\n",
       "      <td>0.319952</td>\n",
       "      <td>0.071037</td>\n",
       "      <td>-0.200335</td>\n",
       "      <td>-0.178070</td>\n",
       "      <td>0.091401</td>\n",
       "      <td>0.150515</td>\n",
       "      <td>-0.586330</td>\n",
       "      <td>-0.049739</td>\n",
       "      <td>...</td>\n",
       "      <td>0.286156</td>\n",
       "      <td>0.363583</td>\n",
       "      <td>-0.761480</td>\n",
       "      <td>0.091617</td>\n",
       "      <td>0.227966</td>\n",
       "      <td>0.356148</td>\n",
       "      <td>-0.165831</td>\n",
       "      <td>-1.199267</td>\n",
       "      <td>-0.400130</td>\n",
       "      <td>-0.606187</td>\n",
       "      <td>-0.317403</td>\n",
       "      <td>0.618639</td>\n",
       "      <td>-0.164691</td>\n",
       "      <td>0.414203</td>\n",
       "      <td>-0.289902</td>\n",
       "      <td>0.178247</td>\n",
       "      <td>0.157726</td>\n",
       "      <td>1.006584</td>\n",
       "      <td>0.431006</td>\n",
       "      <td>0.950790</td>\n",
       "      <td>-0.784731</td>\n",
       "      <td>-0.239662</td>\n",
       "      <td>0.372162</td>\n",
       "      <td>0.421877</td>\n",
       "      <td>-0.143780</td>\n",
       "      <td>0.723457</td>\n",
       "      <td>-0.127699</td>\n",
       "      <td>0.056994</td>\n",
       "      <td>0.130234</td>\n",
       "      <td>-0.053594</td>\n",
       "      <td>0.625355</td>\n",
       "      <td>-0.482272</td>\n",
       "      <td>0.060020</td>\n",
       "      <td>0.427764</td>\n",
       "      <td>0.156053</td>\n",
       "      <td>0.365269</td>\n",
       "      <td>-0.476045</td>\n",
       "      <td>0.413930</td>\n",
       "      <td>-0.749867</td>\n",
       "      <td>1.039502</td>\n",
       "    </tr>\n",
       "  </tbody>\n",
       "</table>\n",
       "<p>5 rows × 300 columns</p>\n",
       "</div>"
      ],
      "text/plain": [
       "        0         1         2    ...       297       298       299\n",
       "0  0.947137  0.797968 -0.030936  ...  0.314565 -0.201394  0.087419\n",
       "1  0.346503  0.303236 -0.372217  ...  0.154061  0.188385 -0.128660\n",
       "2  0.602717  0.215637 -0.105109  ... -0.452403  0.439226 -0.443428\n",
       "3 -0.011072  0.247156 -0.294480  ... -0.444779  0.069761 -0.258714\n",
       "4 -0.247294 -0.149607  0.130453  ...  0.413930 -0.749867  1.039502\n",
       "\n",
       "[5 rows x 300 columns]"
      ]
     },
     "execution_count": 69,
     "metadata": {
      "tags": []
     },
     "output_type": "execute_result"
    }
   ],
   "source": [
    "exploded_em_df.head()"
   ]
  },
  {
   "cell_type": "code",
   "execution_count": 0,
   "metadata": {
    "colab": {},
    "colab_type": "code",
    "id": "W0DpuRUHGJpo"
   },
   "outputs": [],
   "source": [
    "exploded_em_df.to_csv(\"/content/drive/My Drive/Consumer Complaints/vocab_trained_word2Vec.csv\", index=False)"
   ]
  },
  {
   "cell_type": "code",
   "execution_count": 56,
   "metadata": {
    "colab": {
     "base_uri": "https://localhost:8080/",
     "height": 278
    },
    "colab_type": "code",
    "id": "CQ0kAdoyFsX1",
    "outputId": "33f42420-8b41-4666-d5d2-06adcf167dd1"
   },
   "outputs": [
    {
     "name": "stdout",
     "output_type": "stream",
     "text": [
      "Word2Vec output:\n",
      "\n"
     ]
    },
    {
     "data": {
      "text/html": [
       "<div>\n",
       "<style scoped>\n",
       "    .dataframe tbody tr th:only-of-type {\n",
       "        vertical-align: middle;\n",
       "    }\n",
       "\n",
       "    .dataframe tbody tr th {\n",
       "        vertical-align: top;\n",
       "    }\n",
       "\n",
       "    .dataframe thead th {\n",
       "        text-align: right;\n",
       "    }\n",
       "</style>\n",
       "<table border=\"1\" class=\"dataframe\">\n",
       "  <thead>\n",
       "    <tr style=\"text-align: right;\">\n",
       "      <th></th>\n",
       "      <th>0</th>\n",
       "      <th>1</th>\n",
       "      <th>2</th>\n",
       "      <th>3</th>\n",
       "      <th>4</th>\n",
       "      <th>5</th>\n",
       "      <th>6</th>\n",
       "      <th>7</th>\n",
       "      <th>8</th>\n",
       "      <th>9</th>\n",
       "      <th>10</th>\n",
       "      <th>11</th>\n",
       "      <th>12</th>\n",
       "      <th>13</th>\n",
       "      <th>14</th>\n",
       "      <th>15</th>\n",
       "      <th>16</th>\n",
       "      <th>17</th>\n",
       "      <th>18</th>\n",
       "      <th>19</th>\n",
       "      <th>20</th>\n",
       "      <th>21</th>\n",
       "      <th>22</th>\n",
       "      <th>23</th>\n",
       "      <th>24</th>\n",
       "      <th>25</th>\n",
       "      <th>26</th>\n",
       "      <th>27</th>\n",
       "      <th>28</th>\n",
       "      <th>29</th>\n",
       "      <th>30</th>\n",
       "      <th>31</th>\n",
       "      <th>32</th>\n",
       "      <th>33</th>\n",
       "      <th>34</th>\n",
       "      <th>35</th>\n",
       "      <th>36</th>\n",
       "      <th>37</th>\n",
       "      <th>38</th>\n",
       "      <th>39</th>\n",
       "      <th>...</th>\n",
       "      <th>260</th>\n",
       "      <th>261</th>\n",
       "      <th>262</th>\n",
       "      <th>263</th>\n",
       "      <th>264</th>\n",
       "      <th>265</th>\n",
       "      <th>266</th>\n",
       "      <th>267</th>\n",
       "      <th>268</th>\n",
       "      <th>269</th>\n",
       "      <th>270</th>\n",
       "      <th>271</th>\n",
       "      <th>272</th>\n",
       "      <th>273</th>\n",
       "      <th>274</th>\n",
       "      <th>275</th>\n",
       "      <th>276</th>\n",
       "      <th>277</th>\n",
       "      <th>278</th>\n",
       "      <th>279</th>\n",
       "      <th>280</th>\n",
       "      <th>281</th>\n",
       "      <th>282</th>\n",
       "      <th>283</th>\n",
       "      <th>284</th>\n",
       "      <th>285</th>\n",
       "      <th>286</th>\n",
       "      <th>287</th>\n",
       "      <th>288</th>\n",
       "      <th>289</th>\n",
       "      <th>290</th>\n",
       "      <th>291</th>\n",
       "      <th>292</th>\n",
       "      <th>293</th>\n",
       "      <th>294</th>\n",
       "      <th>295</th>\n",
       "      <th>296</th>\n",
       "      <th>297</th>\n",
       "      <th>298</th>\n",
       "      <th>299</th>\n",
       "    </tr>\n",
       "  </thead>\n",
       "  <tbody>\n",
       "    <tr>\n",
       "      <th>0</th>\n",
       "      <td>0.947137</td>\n",
       "      <td>0.797968</td>\n",
       "      <td>-0.030936</td>\n",
       "      <td>0.325574</td>\n",
       "      <td>0.328264</td>\n",
       "      <td>-0.063959</td>\n",
       "      <td>0.518907</td>\n",
       "      <td>0.700780</td>\n",
       "      <td>-0.572147</td>\n",
       "      <td>0.180646</td>\n",
       "      <td>-0.427725</td>\n",
       "      <td>0.770378</td>\n",
       "      <td>0.280004</td>\n",
       "      <td>-0.345742</td>\n",
       "      <td>0.020460</td>\n",
       "      <td>-0.264205</td>\n",
       "      <td>0.038950</td>\n",
       "      <td>-0.050022</td>\n",
       "      <td>0.410842</td>\n",
       "      <td>-0.675329</td>\n",
       "      <td>0.839332</td>\n",
       "      <td>0.379119</td>\n",
       "      <td>0.249163</td>\n",
       "      <td>-0.267121</td>\n",
       "      <td>-0.023081</td>\n",
       "      <td>0.308620</td>\n",
       "      <td>-0.020102</td>\n",
       "      <td>0.517519</td>\n",
       "      <td>-0.439591</td>\n",
       "      <td>-0.659038</td>\n",
       "      <td>0.007898</td>\n",
       "      <td>-0.051288</td>\n",
       "      <td>0.104583</td>\n",
       "      <td>-0.068355</td>\n",
       "      <td>0.095594</td>\n",
       "      <td>0.130207</td>\n",
       "      <td>0.062047</td>\n",
       "      <td>0.668240</td>\n",
       "      <td>0.222255</td>\n",
       "      <td>0.130468</td>\n",
       "      <td>...</td>\n",
       "      <td>0.234688</td>\n",
       "      <td>0.178829</td>\n",
       "      <td>0.086462</td>\n",
       "      <td>0.698007</td>\n",
       "      <td>-0.017392</td>\n",
       "      <td>0.347788</td>\n",
       "      <td>0.580184</td>\n",
       "      <td>0.044341</td>\n",
       "      <td>0.084879</td>\n",
       "      <td>0.806401</td>\n",
       "      <td>0.395428</td>\n",
       "      <td>0.070018</td>\n",
       "      <td>0.288851</td>\n",
       "      <td>0.359422</td>\n",
       "      <td>-0.270810</td>\n",
       "      <td>0.660588</td>\n",
       "      <td>0.024996</td>\n",
       "      <td>0.407959</td>\n",
       "      <td>0.490566</td>\n",
       "      <td>0.483582</td>\n",
       "      <td>0.764715</td>\n",
       "      <td>1.104238</td>\n",
       "      <td>-0.018630</td>\n",
       "      <td>-0.247769</td>\n",
       "      <td>0.000147</td>\n",
       "      <td>-0.087496</td>\n",
       "      <td>0.443121</td>\n",
       "      <td>-0.089405</td>\n",
       "      <td>0.049366</td>\n",
       "      <td>0.119993</td>\n",
       "      <td>0.323945</td>\n",
       "      <td>0.122406</td>\n",
       "      <td>-0.459337</td>\n",
       "      <td>-0.572419</td>\n",
       "      <td>-0.413979</td>\n",
       "      <td>0.568873</td>\n",
       "      <td>0.094099</td>\n",
       "      <td>0.314565</td>\n",
       "      <td>-0.201394</td>\n",
       "      <td>0.087419</td>\n",
       "    </tr>\n",
       "    <tr>\n",
       "      <th>1</th>\n",
       "      <td>0.346503</td>\n",
       "      <td>0.303236</td>\n",
       "      <td>-0.372217</td>\n",
       "      <td>0.391382</td>\n",
       "      <td>-0.123689</td>\n",
       "      <td>-0.039082</td>\n",
       "      <td>-0.102721</td>\n",
       "      <td>0.365666</td>\n",
       "      <td>-0.556957</td>\n",
       "      <td>0.368793</td>\n",
       "      <td>0.287114</td>\n",
       "      <td>0.417746</td>\n",
       "      <td>0.011604</td>\n",
       "      <td>0.152695</td>\n",
       "      <td>0.070894</td>\n",
       "      <td>0.122569</td>\n",
       "      <td>-0.362668</td>\n",
       "      <td>0.044491</td>\n",
       "      <td>0.091689</td>\n",
       "      <td>0.454121</td>\n",
       "      <td>0.416568</td>\n",
       "      <td>-0.080236</td>\n",
       "      <td>0.040214</td>\n",
       "      <td>-0.606339</td>\n",
       "      <td>0.560654</td>\n",
       "      <td>0.188586</td>\n",
       "      <td>-0.053478</td>\n",
       "      <td>-0.095007</td>\n",
       "      <td>-0.288335</td>\n",
       "      <td>-0.208826</td>\n",
       "      <td>0.013382</td>\n",
       "      <td>-0.156881</td>\n",
       "      <td>0.496778</td>\n",
       "      <td>-0.194981</td>\n",
       "      <td>0.020649</td>\n",
       "      <td>-0.249600</td>\n",
       "      <td>-0.272199</td>\n",
       "      <td>0.187005</td>\n",
       "      <td>-0.019485</td>\n",
       "      <td>-0.106376</td>\n",
       "      <td>...</td>\n",
       "      <td>-0.380186</td>\n",
       "      <td>0.171340</td>\n",
       "      <td>-0.373499</td>\n",
       "      <td>-0.070659</td>\n",
       "      <td>0.118852</td>\n",
       "      <td>0.076156</td>\n",
       "      <td>-0.079647</td>\n",
       "      <td>0.262490</td>\n",
       "      <td>-0.248086</td>\n",
       "      <td>0.300778</td>\n",
       "      <td>-0.009919</td>\n",
       "      <td>0.060713</td>\n",
       "      <td>0.437010</td>\n",
       "      <td>-0.406985</td>\n",
       "      <td>0.113912</td>\n",
       "      <td>0.124306</td>\n",
       "      <td>-0.021735</td>\n",
       "      <td>-0.230696</td>\n",
       "      <td>-0.107437</td>\n",
       "      <td>0.313559</td>\n",
       "      <td>0.067504</td>\n",
       "      <td>-0.219613</td>\n",
       "      <td>0.088254</td>\n",
       "      <td>-0.165316</td>\n",
       "      <td>-0.090705</td>\n",
       "      <td>-0.153628</td>\n",
       "      <td>0.541471</td>\n",
       "      <td>-0.590237</td>\n",
       "      <td>-0.109182</td>\n",
       "      <td>-0.092239</td>\n",
       "      <td>0.246691</td>\n",
       "      <td>-0.269896</td>\n",
       "      <td>-0.175584</td>\n",
       "      <td>-0.242937</td>\n",
       "      <td>0.024578</td>\n",
       "      <td>-0.118269</td>\n",
       "      <td>0.168241</td>\n",
       "      <td>0.154061</td>\n",
       "      <td>0.188385</td>\n",
       "      <td>-0.128660</td>\n",
       "    </tr>\n",
       "    <tr>\n",
       "      <th>2</th>\n",
       "      <td>0.602717</td>\n",
       "      <td>0.215637</td>\n",
       "      <td>-0.105109</td>\n",
       "      <td>-0.707172</td>\n",
       "      <td>-0.356494</td>\n",
       "      <td>-0.710269</td>\n",
       "      <td>-0.274683</td>\n",
       "      <td>-0.233497</td>\n",
       "      <td>-0.690138</td>\n",
       "      <td>-0.109448</td>\n",
       "      <td>0.896195</td>\n",
       "      <td>-0.420591</td>\n",
       "      <td>-0.070513</td>\n",
       "      <td>-0.858397</td>\n",
       "      <td>0.624172</td>\n",
       "      <td>-0.012132</td>\n",
       "      <td>-0.127305</td>\n",
       "      <td>0.000148</td>\n",
       "      <td>-0.414510</td>\n",
       "      <td>-0.454483</td>\n",
       "      <td>-0.216804</td>\n",
       "      <td>-0.035734</td>\n",
       "      <td>0.001337</td>\n",
       "      <td>0.181097</td>\n",
       "      <td>-0.417232</td>\n",
       "      <td>-0.296178</td>\n",
       "      <td>0.450816</td>\n",
       "      <td>-0.217483</td>\n",
       "      <td>0.543007</td>\n",
       "      <td>0.007233</td>\n",
       "      <td>-0.244287</td>\n",
       "      <td>-0.066502</td>\n",
       "      <td>0.580377</td>\n",
       "      <td>-0.672694</td>\n",
       "      <td>0.175977</td>\n",
       "      <td>0.810094</td>\n",
       "      <td>-0.110482</td>\n",
       "      <td>-0.093188</td>\n",
       "      <td>-0.088899</td>\n",
       "      <td>-0.185283</td>\n",
       "      <td>...</td>\n",
       "      <td>-0.091762</td>\n",
       "      <td>-0.058140</td>\n",
       "      <td>-0.061445</td>\n",
       "      <td>-0.162784</td>\n",
       "      <td>0.370719</td>\n",
       "      <td>0.056052</td>\n",
       "      <td>-0.001998</td>\n",
       "      <td>0.504208</td>\n",
       "      <td>-0.146694</td>\n",
       "      <td>0.207545</td>\n",
       "      <td>0.002446</td>\n",
       "      <td>-0.859417</td>\n",
       "      <td>-0.734845</td>\n",
       "      <td>-0.395253</td>\n",
       "      <td>1.323548</td>\n",
       "      <td>-0.392671</td>\n",
       "      <td>0.461727</td>\n",
       "      <td>-0.341981</td>\n",
       "      <td>0.113693</td>\n",
       "      <td>0.264209</td>\n",
       "      <td>0.330444</td>\n",
       "      <td>-0.869633</td>\n",
       "      <td>0.266686</td>\n",
       "      <td>0.432221</td>\n",
       "      <td>0.334894</td>\n",
       "      <td>-0.123034</td>\n",
       "      <td>-0.230814</td>\n",
       "      <td>-0.275854</td>\n",
       "      <td>0.081249</td>\n",
       "      <td>-0.387489</td>\n",
       "      <td>-0.335095</td>\n",
       "      <td>-0.220893</td>\n",
       "      <td>0.271718</td>\n",
       "      <td>-0.003779</td>\n",
       "      <td>0.047781</td>\n",
       "      <td>-0.283992</td>\n",
       "      <td>-0.387599</td>\n",
       "      <td>-0.452403</td>\n",
       "      <td>0.439226</td>\n",
       "      <td>-0.443428</td>\n",
       "    </tr>\n",
       "    <tr>\n",
       "      <th>3</th>\n",
       "      <td>-0.011072</td>\n",
       "      <td>0.247156</td>\n",
       "      <td>-0.294480</td>\n",
       "      <td>0.422079</td>\n",
       "      <td>0.461657</td>\n",
       "      <td>-0.761447</td>\n",
       "      <td>-0.182339</td>\n",
       "      <td>-0.289284</td>\n",
       "      <td>-0.011988</td>\n",
       "      <td>-0.234579</td>\n",
       "      <td>-0.028099</td>\n",
       "      <td>0.454353</td>\n",
       "      <td>0.191391</td>\n",
       "      <td>-0.651990</td>\n",
       "      <td>0.173564</td>\n",
       "      <td>0.092529</td>\n",
       "      <td>-0.162201</td>\n",
       "      <td>-0.301764</td>\n",
       "      <td>-0.140684</td>\n",
       "      <td>0.044114</td>\n",
       "      <td>0.594246</td>\n",
       "      <td>0.866858</td>\n",
       "      <td>0.076634</td>\n",
       "      <td>0.159238</td>\n",
       "      <td>0.284943</td>\n",
       "      <td>-0.099537</td>\n",
       "      <td>0.220469</td>\n",
       "      <td>0.159950</td>\n",
       "      <td>-0.412073</td>\n",
       "      <td>0.112449</td>\n",
       "      <td>0.183896</td>\n",
       "      <td>0.167631</td>\n",
       "      <td>0.667116</td>\n",
       "      <td>-0.089042</td>\n",
       "      <td>-0.252672</td>\n",
       "      <td>-0.055643</td>\n",
       "      <td>-0.335217</td>\n",
       "      <td>-0.015922</td>\n",
       "      <td>-0.027850</td>\n",
       "      <td>-0.199045</td>\n",
       "      <td>...</td>\n",
       "      <td>-0.646473</td>\n",
       "      <td>-0.209117</td>\n",
       "      <td>-0.039706</td>\n",
       "      <td>0.750582</td>\n",
       "      <td>-0.005598</td>\n",
       "      <td>0.240829</td>\n",
       "      <td>0.405978</td>\n",
       "      <td>0.791416</td>\n",
       "      <td>0.017423</td>\n",
       "      <td>0.414557</td>\n",
       "      <td>0.159703</td>\n",
       "      <td>0.074826</td>\n",
       "      <td>0.105072</td>\n",
       "      <td>-0.064181</td>\n",
       "      <td>0.391706</td>\n",
       "      <td>0.019175</td>\n",
       "      <td>-0.357031</td>\n",
       "      <td>0.035378</td>\n",
       "      <td>0.349715</td>\n",
       "      <td>0.437108</td>\n",
       "      <td>0.129767</td>\n",
       "      <td>0.043607</td>\n",
       "      <td>0.275251</td>\n",
       "      <td>0.269874</td>\n",
       "      <td>0.088628</td>\n",
       "      <td>0.053891</td>\n",
       "      <td>0.917821</td>\n",
       "      <td>-0.117185</td>\n",
       "      <td>-0.125556</td>\n",
       "      <td>-0.501329</td>\n",
       "      <td>0.239641</td>\n",
       "      <td>-0.099641</td>\n",
       "      <td>0.067811</td>\n",
       "      <td>-0.514687</td>\n",
       "      <td>0.213957</td>\n",
       "      <td>-0.065786</td>\n",
       "      <td>0.085711</td>\n",
       "      <td>-0.444779</td>\n",
       "      <td>0.069761</td>\n",
       "      <td>-0.258714</td>\n",
       "    </tr>\n",
       "    <tr>\n",
       "      <th>4</th>\n",
       "      <td>-0.247294</td>\n",
       "      <td>-0.149607</td>\n",
       "      <td>0.130453</td>\n",
       "      <td>-0.392330</td>\n",
       "      <td>0.717327</td>\n",
       "      <td>-1.027135</td>\n",
       "      <td>0.223010</td>\n",
       "      <td>-0.426988</td>\n",
       "      <td>-0.053654</td>\n",
       "      <td>0.412065</td>\n",
       "      <td>-0.582589</td>\n",
       "      <td>0.129513</td>\n",
       "      <td>1.559195</td>\n",
       "      <td>0.275356</td>\n",
       "      <td>-0.638029</td>\n",
       "      <td>-0.077253</td>\n",
       "      <td>-0.330036</td>\n",
       "      <td>0.211394</td>\n",
       "      <td>0.565011</td>\n",
       "      <td>0.521756</td>\n",
       "      <td>-0.652897</td>\n",
       "      <td>0.031698</td>\n",
       "      <td>-0.409630</td>\n",
       "      <td>-1.219217</td>\n",
       "      <td>-0.153522</td>\n",
       "      <td>-0.591173</td>\n",
       "      <td>0.319787</td>\n",
       "      <td>-0.009525</td>\n",
       "      <td>-0.468154</td>\n",
       "      <td>0.263078</td>\n",
       "      <td>0.179815</td>\n",
       "      <td>0.853124</td>\n",
       "      <td>0.319952</td>\n",
       "      <td>0.071037</td>\n",
       "      <td>-0.200335</td>\n",
       "      <td>-0.178070</td>\n",
       "      <td>0.091401</td>\n",
       "      <td>0.150515</td>\n",
       "      <td>-0.586330</td>\n",
       "      <td>-0.049739</td>\n",
       "      <td>...</td>\n",
       "      <td>0.286156</td>\n",
       "      <td>0.363583</td>\n",
       "      <td>-0.761480</td>\n",
       "      <td>0.091617</td>\n",
       "      <td>0.227966</td>\n",
       "      <td>0.356148</td>\n",
       "      <td>-0.165831</td>\n",
       "      <td>-1.199267</td>\n",
       "      <td>-0.400130</td>\n",
       "      <td>-0.606187</td>\n",
       "      <td>-0.317403</td>\n",
       "      <td>0.618639</td>\n",
       "      <td>-0.164691</td>\n",
       "      <td>0.414203</td>\n",
       "      <td>-0.289902</td>\n",
       "      <td>0.178247</td>\n",
       "      <td>0.157726</td>\n",
       "      <td>1.006584</td>\n",
       "      <td>0.431006</td>\n",
       "      <td>0.950790</td>\n",
       "      <td>-0.784731</td>\n",
       "      <td>-0.239662</td>\n",
       "      <td>0.372162</td>\n",
       "      <td>0.421877</td>\n",
       "      <td>-0.143780</td>\n",
       "      <td>0.723457</td>\n",
       "      <td>-0.127699</td>\n",
       "      <td>0.056994</td>\n",
       "      <td>0.130234</td>\n",
       "      <td>-0.053594</td>\n",
       "      <td>0.625355</td>\n",
       "      <td>-0.482272</td>\n",
       "      <td>0.060020</td>\n",
       "      <td>0.427764</td>\n",
       "      <td>0.156053</td>\n",
       "      <td>0.365269</td>\n",
       "      <td>-0.476045</td>\n",
       "      <td>0.413930</td>\n",
       "      <td>-0.749867</td>\n",
       "      <td>1.039502</td>\n",
       "    </tr>\n",
       "  </tbody>\n",
       "</table>\n",
       "<p>5 rows × 300 columns</p>\n",
       "</div>"
      ],
      "text/plain": [
       "          0         1         2  ...       297       298       299\n",
       "0  0.947137  0.797968 -0.030936  ...  0.314565 -0.201394  0.087419\n",
       "1  0.346503  0.303236 -0.372217  ...  0.154061  0.188385 -0.128660\n",
       "2  0.602717  0.215637 -0.105109  ... -0.452403  0.439226 -0.443428\n",
       "3 -0.011072  0.247156 -0.294480  ... -0.444779  0.069761 -0.258714\n",
       "4 -0.247294 -0.149607  0.130453  ...  0.413930 -0.749867  1.039502\n",
       "\n",
       "[5 rows x 300 columns]"
      ]
     },
     "execution_count": 56,
     "metadata": {
      "tags": []
     },
     "output_type": "execute_result"
    }
   ],
   "source": [
    "exploded_em_df = pd.read_csv('/content/drive/My Drive/Consumer Complaints/vocab_trained_word2Vec.csv')\n",
    "print(\"Word2Vec output:\\n\")\n",
    "exploded_em_df.head()"
   ]
  },
  {
   "cell_type": "code",
   "execution_count": 57,
   "metadata": {
    "colab": {
     "base_uri": "https://localhost:8080/",
     "height": 50
    },
    "colab_type": "code",
    "id": "4NNSU6QKFsUE",
    "outputId": "086bd99c-b16f-4670-d546-d6eb6e3a1e72"
   },
   "outputs": [
    {
     "name": "stdout",
     "output_type": "stream",
     "text": [
      "True\n",
      "(387816, 301)\n"
     ]
    }
   ],
   "source": [
    "data_word2vec = data_word2vec.reset_index(drop=True)\n",
    "vectorized_df = pd.concat([exploded_em_df, data_word2vec[['Product']]], axis=1)                        \n",
    "vectorized_df = shuffle(vectorized_df)\n",
    "\n",
    "if vectorized_df[vectorized_df.isnull().any(axis=1)].empty:\n",
    "    res = \"True\" # No NaNs exist in the cleaned dataset.\n",
    "else:\n",
    "    res = \"False\"\n",
    "print(res)\n",
    "print(vectorized_df.shape)\n",
    "if not res:\n",
    "    vectorized_df[vectorized_df.isnull().any(axis=1)]\n",
    "    vectorized_df.dropna(axis=0, how='any')\n",
    "    print(vectorized_df.shape)"
   ]
  },
  {
   "cell_type": "code",
   "execution_count": 0,
   "metadata": {
    "colab": {},
    "colab_type": "code",
    "id": "eLLKhfAnFsSm"
   },
   "outputs": [],
   "source": [
    "vectorized_data = np.array(vectorized_df.drop('Product', axis=1))\n",
    "vectorized_target = np.array(vectorized_df['Product'])\n",
    "\n",
    "X_train_word2vec, X_test_word2vec, y_train_word2vec, y_test_word2vec = tts(vectorized_data, vectorized_target,\n",
    "                                                    test_size=0.3,\n",
    "                                                    random_state=42)"
   ]
  },
  {
   "cell_type": "markdown",
   "metadata": {
    "colab_type": "text",
    "id": "Z7nC4rKQHFzU"
   },
   "source": [
    "###**Random Forest & Support Vector Machine ![alt text](https://)with Word2Vec**"
   ]
  },
  {
   "cell_type": "code",
   "execution_count": 60,
   "metadata": {
    "colab": {
     "base_uri": "https://localhost:8080/",
     "height": 960
    },
    "colab_type": "code",
    "id": "up0r6mP3G_FI",
    "outputId": "dc5fe6da-3d04-46b9-b5e9-0b9b468e3d6d"
   },
   "outputs": [
    {
     "name": "stderr",
     "output_type": "stream",
     "text": [
      "[Parallel(n_jobs=-1)]: Using backend ThreadingBackend with 4 concurrent workers.\n",
      "[Parallel(n_jobs=-1)]: Done  42 tasks      | elapsed:  2.1min\n",
      "[Parallel(n_jobs=-1)]: Done 100 out of 100 | elapsed:  4.7min finished\n",
      "[Parallel(n_jobs=4)]: Using backend ThreadingBackend with 4 concurrent workers.\n",
      "[Parallel(n_jobs=4)]: Done  42 tasks      | elapsed:    0.9s\n",
      "[Parallel(n_jobs=4)]: Done 100 out of 100 | elapsed:    2.0s finished\n"
     ]
    },
    {
     "name": "stdout",
     "output_type": "stream",
     "text": [
      "Test Accuracy for Random Forest: 0.7988740384202158\n"
     ]
    },
    {
     "name": "stderr",
     "output_type": "stream",
     "text": [
      "[Parallel(n_jobs=4)]: Using backend ThreadingBackend with 4 concurrent workers.\n",
      "[Parallel(n_jobs=4)]: Done  42 tasks      | elapsed:    0.8s\n",
      "[Parallel(n_jobs=4)]: Done 100 out of 100 | elapsed:    2.0s finished\n"
     ]
    },
    {
     "name": "stdout",
     "output_type": "stream",
     "text": [
      "Confusion matrix, without normalization\n"
     ]
    },
    {
     "data": {
      "image/png": "[encoded data removed]",
      "text/plain": [
       "<Figure size 432x288 with 2 Axes>"
      ]
     },
     "metadata": {
      "tags": []
     },
     "output_type": "display_data"
    },
    {
     "name": "stdout",
     "output_type": "stream",
     "text": [
      "                                                                              precision    recall  f1-score   support\n",
      "\n",
      "                                                     bank account or service       0.80      0.68      0.74      8542\n",
      "                                                 credit card or prepaid card       0.70      0.66      0.68     12932\n",
      "credit reporting, credit repair services, or other personal consumer reports       0.81      0.91      0.86     38793\n",
      "                                                             debt collection       0.79      0.80      0.80     26666\n",
      "                                                                       Loans       0.77      0.60      0.68     13213\n",
      "                                                                    mortgage       0.87      0.86      0.87     16199\n",
      "\n",
      "                                                                    accuracy                           0.80    116345\n",
      "                                                                   macro avg       0.79      0.75      0.77    116345\n",
      "                                                                weighted avg       0.80      0.80      0.80    116345\n",
      "\n"
     ]
    }
   ],
   "source": [
    "Model_RandomForest(X_train_word2vec, y_train_word2vec, X_test_word2vec, y_test_word2vec)"
   ]
  },
  {
   "cell_type": "code",
   "execution_count": 0,
   "metadata": {
    "colab": {},
    "colab_type": "code",
    "id": "o6yXLGG8v8fa"
   },
   "outputs": [],
   "source": [
    "Model_SVC(X_train_word2vec, y_train_word2vec, X_test_word2vec, y_test_word2vec)"
   ]
  },
  {
   "cell_type": "markdown",
   "metadata": {
    "colab_type": "text",
    "id": "YQBazCqskS6x"
   },
   "source": [
    "###**Convolution Neural Network**"
   ]
  },
  {
   "cell_type": "code",
   "execution_count": 0,
   "metadata": {
    "colab": {},
    "colab_type": "code",
    "id": "gRpZ2_FEySX-"
   },
   "outputs": [],
   "source": [
    "X_train_nn, X_test_nn, y_train_nn, y_test_nn = tts(data_tfidf[\"Consumer complaint narrative\"], data_tfidf[\"Product\"], test_size=0.3,random_state=42)"
   ]
  },
  {
   "cell_type": "code",
   "execution_count": 0,
   "metadata": {
    "colab": {},
    "colab_type": "code",
    "id": "9VPvT67JzgU3"
   },
   "outputs": [],
   "source": [
    "vectorizer = TfidfVectorizer(max_features=1500, sublinear_tf=True, min_df=5, norm='l2', encoding='latin-1',stop_words='english')\n",
    "X_train_onehot = vectorizer.fit_transform(X_train_nn)"
   ]
  },
  {
   "cell_type": "code",
   "execution_count": 0,
   "metadata": {
    "colab": {},
    "colab_type": "code",
    "id": "kGEzW0e_ieeU"
   },
   "outputs": [],
   "source": [
    "word2idx = {word: idx for idx, word in enumerate(vectorizer.get_feature_names())}\n",
    "tokenize = vectorizer.build_tokenizer()\n",
    "preprocess = vectorizer.build_preprocessor()"
   ]
  },
  {
   "cell_type": "code",
   "execution_count": 0,
   "metadata": {
    "colab": {},
    "colab_type": "code",
    "id": "vlkztZ8XlakU"
   },
   "outputs": [],
   "source": [
    "def to_sequence(tokenizer, preprocessor, index, text):\n",
    "    words = tokenizer(preprocessor(text))\n",
    "    indexes = [index[word] for word in words if word in index]\n",
    "    return indexes"
   ]
  },
  {
   "cell_type": "code",
   "execution_count": 0,
   "metadata": {
    "colab": {},
    "colab_type": "code",
    "id": "U9Bi81AymRco"
   },
   "outputs": [],
   "source": [
    "X_train_sequences = [to_sequence(tokenize, preprocess, word2idx, x) for x in X_train_nn]"
   ]
  },
  {
   "cell_type": "code",
   "execution_count": 48,
   "metadata": {
    "colab": {
     "base_uri": "https://localhost:8080/",
     "height": 34
    },
    "colab_type": "code",
    "id": "g0QnDiI1o0jA",
    "outputId": "e0e120ce-d63c-43a0-9829-9cbed91a9082"
   },
   "outputs": [
    {
     "name": "stdout",
     "output_type": "stream",
     "text": [
      "MAX_SEQ_LENGHT= 500\n"
     ]
    }
   ],
   "source": [
    "MAX_SEQ_LENGHT = len(max(X_train_sequences, key=len))\n",
    "print(\"MAX_SEQ_LENGHT=\", MAX_SEQ_LENGHT)"
   ]
  },
  {
   "cell_type": "code",
   "execution_count": 0,
   "metadata": {
    "colab": {},
    "colab_type": "code",
    "id": "tT5ruGfVo2pH"
   },
   "outputs": [],
   "source": [
    "N_FEATURES = len(vectorizer.get_feature_names())\n",
    "X_train_sequences = pad_sequences(X_train_sequences, maxlen=MAX_SEQ_LENGHT, value=N_FEATURES)"
   ]
  },
  {
   "cell_type": "code",
   "execution_count": 0,
   "metadata": {
    "colab": {},
    "colab_type": "code",
    "id": "yZq1Qr_9wiFg"
   },
   "outputs": [],
   "source": [
    "X_test_sequences = [to_sequence(tokenize, preprocess, word2idx, x) for x in X_test_nn]\n",
    "X_test_sequences = pad_sequences(X_test_sequences, maxlen=MAX_SEQ_LENGHT, value=N_FEATURES)"
   ]
  },
  {
   "cell_type": "code",
   "execution_count": 0,
   "metadata": {
    "colab": {},
    "colab_type": "code",
    "id": "zVidaUGH1uer"
   },
   "outputs": [],
   "source": [
    "y_train_nn1 = pd.get_dummies(y_train_nn)"
   ]
  },
  {
   "cell_type": "code",
   "execution_count": 0,
   "metadata": {
    "colab": {},
    "colab_type": "code",
    "id": "hd5QC_4-6IjO"
   },
   "outputs": [],
   "source": [
    "early_stopping_monitor = EarlyStopping(patience=5)"
   ]
  },
  {
   "cell_type": "code",
   "execution_count": 56,
   "metadata": {
    "colab": {
     "base_uri": "https://localhost:8080/",
     "height": 370
    },
    "colab_type": "code",
    "id": "P9mJXtuzo5py",
    "outputId": "8e07a5ea-3763-40ed-bc3f-21688c0ea146"
   },
   "outputs": [
    {
     "name": "stdout",
     "output_type": "stream",
     "text": [
      "Model: \"sequential_2\"\n",
      "_________________________________________________________________\n",
      "Layer (type)                 Output Shape              Param #   \n",
      "=================================================================\n",
      "embedding_2 (Embedding)      (None, 500, 64)           96064     \n",
      "_________________________________________________________________\n",
      "conv1d_2 (Conv1D)            (None, 496, 64)           20544     \n",
      "_________________________________________________________________\n",
      "max_pooling1d_2 (MaxPooling1 (None, 99, 64)            0         \n",
      "_________________________________________________________________\n",
      "flatten_2 (Flatten)          (None, 6336)              0         \n",
      "_________________________________________________________________\n",
      "dense_3 (Dense)              (None, 64)                405568    \n",
      "_________________________________________________________________\n",
      "dense_4 (Dense)              (None, 6)                 390       \n",
      "=================================================================\n",
      "Total params: 522,566\n",
      "Trainable params: 522,566\n",
      "Non-trainable params: 0\n",
      "_________________________________________________________________\n",
      "None\n"
     ]
    }
   ],
   "source": [
    "model_CNN = Sequential()\n",
    "model_CNN.add(Embedding(len(vectorizer.get_feature_names()) + 1,\n",
    "                    64,\n",
    "                    input_length=MAX_SEQ_LENGHT))\n",
    "model_CNN.add(Conv1D(64, 5, activation='relu'))\n",
    "model_CNN.add(MaxPooling1D(5))\n",
    "model_CNN.add(Flatten())\n",
    "model_CNN.add(Dense(units=64, activation='relu'))\n",
    "model_CNN.add(Dense(units=6, activation='softmax'))\n",
    " \n",
    "model_CNN.compile(loss='categorical_crossentropy', optimizer='adam', metrics=['accuracy'])\n",
    "print(model_CNN.summary())"
   ]
  },
  {
   "cell_type": "code",
   "execution_count": 57,
   "metadata": {
    "colab": {
     "base_uri": "https://localhost:8080/",
     "height": 403
    },
    "colab_type": "code",
    "id": "4fH4vduMpEsj",
    "outputId": "0a66432e-16fb-4f9c-ff69-d44fc94bf2b1"
   },
   "outputs": [
    {
     "name": "stdout",
     "output_type": "stream",
     "text": [
      "Train on 217176 samples, validate on 54295 samples\n",
      "Epoch 1/30\n",
      "217176/217176 [==============================] - 13s 58us/step - loss: 0.7836 - acc: 0.7164 - val_loss: 0.5360 - val_acc: 0.8164\n",
      "Epoch 2/30\n",
      "217176/217176 [==============================] - 12s 56us/step - loss: 0.5100 - acc: 0.8249 - val_loss: 0.5025 - val_acc: 0.8268\n",
      "Epoch 3/30\n",
      "217176/217176 [==============================] - 12s 56us/step - loss: 0.4812 - acc: 0.8332 - val_loss: 0.4998 - val_acc: 0.8279\n",
      "Epoch 4/30\n",
      "217176/217176 [==============================] - 12s 56us/step - loss: 0.4599 - acc: 0.8396 - val_loss: 0.4900 - val_acc: 0.8304\n",
      "Epoch 5/30\n",
      "217176/217176 [==============================] - 12s 56us/step - loss: 0.4387 - acc: 0.8476 - val_loss: 0.4914 - val_acc: 0.8306\n",
      "Epoch 6/30\n",
      "217176/217176 [==============================] - 12s 56us/step - loss: 0.4167 - acc: 0.8555 - val_loss: 0.4886 - val_acc: 0.8322\n",
      "Epoch 7/30\n",
      "217176/217176 [==============================] - 12s 56us/step - loss: 0.3918 - acc: 0.8649 - val_loss: 0.5008 - val_acc: 0.8298\n",
      "Epoch 8/30\n",
      "217176/217176 [==============================] - 12s 56us/step - loss: 0.3659 - acc: 0.8752 - val_loss: 0.5191 - val_acc: 0.8268\n",
      "Epoch 9/30\n",
      "217176/217176 [==============================] - 12s 56us/step - loss: 0.3401 - acc: 0.8838 - val_loss: 0.5297 - val_acc: 0.8272\n",
      "Epoch 10/30\n",
      "217176/217176 [==============================] - 12s 56us/step - loss: 0.3150 - acc: 0.8933 - val_loss: 0.5484 - val_acc: 0.8230\n",
      "Epoch 11/30\n",
      "217176/217176 [==============================] - 12s 56us/step - loss: 0.2924 - acc: 0.9019 - val_loss: 0.5842 - val_acc: 0.8202\n"
     ]
    }
   ],
   "source": [
    "History = model_CNN.fit(X_train_sequences[:217176], y_train_nn1[:217176], \n",
    "          epochs=30, batch_size=512,\n",
    "          validation_data=(X_train_sequences[217176:], y_train_nn1[217176:]),callbacks=[early_stopping_monitor], verbose=1)"
   ]
  },
  {
   "cell_type": "code",
   "execution_count": 0,
   "metadata": {
    "colab": {},
    "colab_type": "code",
    "id": "DMvrAKRs6iw_"
   },
   "outputs": [],
   "source": [
    "model_CNN.save(\"/content/drive/My Drive/Consumer Complaints/model_CNN.h5\")"
   ]
  },
  {
   "cell_type": "code",
   "execution_count": 0,
   "metadata": {
    "colab": {},
    "colab_type": "code",
    "id": "nIAA5QIf4WEf"
   },
   "outputs": [],
   "source": [
    "y_test_nn1 = pd.get_dummies(y_test_nn)"
   ]
  },
  {
   "cell_type": "code",
   "execution_count": 0,
   "metadata": {
    "colab": {},
    "colab_type": "code",
    "id": "Myk8q6-N65CL"
   },
   "outputs": [],
   "source": [
    "model_CNN_loaded = load_model('/content/drive/My Drive/Consumer Complaints/model_CNN.h5')"
   ]
  },
  {
   "cell_type": "code",
   "execution_count": 61,
   "metadata": {
    "colab": {
     "base_uri": "https://localhost:8080/",
     "height": 50
    },
    "colab_type": "code",
    "id": "6z-ARBrTvbMi",
    "outputId": "26f39f17-ac69-43d8-e8f9-420dc1e8d6d7"
   },
   "outputs": [
    {
     "name": "stdout",
     "output_type": "stream",
     "text": [
      "116345/116345 [==============================] - 8s 65us/step\n",
      "CNN - Accuracy: 0.8187975417881675\n"
     ]
    }
   ],
   "source": [
    "scores = model_CNN_loaded.evaluate(X_test_sequences, y_test_nn1, verbose=1)\n",
    "print(\"CNN - Accuracy:\", scores[1]) "
   ]
  },
  {
   "cell_type": "code",
   "execution_count": 62,
   "metadata": {
    "colab": {
     "base_uri": "https://localhost:8080/",
     "height": 826
    },
    "colab_type": "code",
    "id": "SC529CHI4nub",
    "outputId": "eceb40d0-8d77-4d70-e838-b20f66819549"
   },
   "outputs": [
    {
     "name": "stdout",
     "output_type": "stream",
     "text": [
      "Confusion matrix for CNN\n",
      "Confusion matrix, without normalization\n"
     ]
    },
    {
     "data": {
      "image/png": "[encoded data removed]",
      "text/plain": [
       "<Figure size 432x288 with 2 Axes>"
      ]
     },
     "metadata": {
      "tags": []
     },
     "output_type": "display_data"
    },
    {
     "name": "stdout",
     "output_type": "stream",
     "text": [
      "Classification Report for CNN\n",
      "                                                                              precision    recall  f1-score   support\n",
      "\n",
      "                                                     bank account or service       0.80      0.78      0.79      8446\n",
      "                                                 credit card or prepaid card       0.76      0.76      0.76     12944\n",
      "credit reporting, credit repair services, or other personal consumer reports       0.86      0.84      0.85     38762\n",
      "                                                             debt collection       0.77      0.83      0.80     26793\n",
      "                                                                       Loans       0.78      0.74      0.76     13249\n",
      "                                                                    mortgage       0.90      0.90      0.90     16151\n",
      "\n",
      "                                                                    accuracy                           0.82    116345\n",
      "                                                                   macro avg       0.81      0.81      0.81    116345\n",
      "                                                                weighted avg       0.82      0.82      0.82    116345\n",
      "\n"
     ]
    }
   ],
   "source": [
    "print(\"Confusion matrix for CNN\")\n",
    "y_pred = model_CNN_loaded.predict_classes(X_test_sequences)\n",
    "cnf_matrix = confusion_matrix(y_test_nn, y_pred)\n",
    "np.set_printoptions(precision=2)\n",
    "plt.figure()\n",
    "target_names =['bank account or service', 'credit card or prepaid card', 'credit reporting, credit repair services, or other personal consumer reports','debt collection','Loans','mortgage']\n",
    "plot_confusion_matrix(cnf_matrix, classes=target_names,\n",
    "                  title='Confusion matrix, without normalization')\n",
    "plt.show()\n",
    "\n",
    "print(\"Classification Report for CNN\")\n",
    "print(classification_report(y_test_nn,y_pred, target_names=target_names))"
   ]
  },
  {
   "cell_type": "markdown",
   "metadata": {
    "colab_type": "text",
    "id": "bMN1WO2Uv5e8"
   },
   "source": [
    "###**LSTM**"
   ]
  },
  {
   "cell_type": "code",
   "execution_count": 63,
   "metadata": {
    "colab": {
     "base_uri": "https://localhost:8080/",
     "height": 269
    },
    "colab_type": "code",
    "id": "RZGRaLuuv-rC",
    "outputId": "640ebc29-572c-409f-e8bb-677921fba0c4"
   },
   "outputs": [
    {
     "name": "stdout",
     "output_type": "stream",
     "text": [
      "Model: \"sequential_3\"\n",
      "_________________________________________________________________\n",
      "Layer (type)                 Output Shape              Param #   \n",
      "=================================================================\n",
      "embedding_3 (Embedding)      (None, 500, 64)           96064     \n",
      "_________________________________________________________________\n",
      "lstm_1 (LSTM)                (None, 64)                33024     \n",
      "_________________________________________________________________\n",
      "dense_5 (Dense)              (None, 6)                 390       \n",
      "=================================================================\n",
      "Total params: 129,478\n",
      "Trainable params: 129,478\n",
      "Non-trainable params: 0\n",
      "_________________________________________________________________\n",
      "None\n"
     ]
    }
   ],
   "source": [
    "model_LSTM = Sequential()\n",
    "model_LSTM.add(Embedding(len(vectorizer.get_feature_names()) + 1,\n",
    "                    64,\n",
    "                    input_length=MAX_SEQ_LENGHT))\n",
    "model_LSTM.add(LSTM(64))\n",
    "model_LSTM.add(Dense(units=6, activation='softmax'))\n",
    " \n",
    "model_LSTM.compile(loss='categorical_crossentropy', optimizer='adam', metrics=['accuracy'])\n",
    "print(model_LSTM.summary())"
   ]
  },
  {
   "cell_type": "code",
   "execution_count": 0,
   "metadata": {
    "colab": {
     "base_uri": "https://localhost:8080/",
     "height": 67
    },
    "colab_type": "code",
    "id": "bi6wmmkWv-oR",
    "outputId": "90d52a52-d8c0-4c49-c03f-d53d66cb5a81"
   },
   "outputs": [
    {
     "name": "stdout",
     "output_type": "stream",
     "text": [
      "Train on 217176 samples, validate on 54295 samples\n",
      "Epoch 1/30\n",
      " 18432/217176 [=>............................] - ETA: 6:12 - loss: 1.6339 - acc: 0.3367"
     ]
    }
   ],
   "source": [
    "model_LSTM.fit(X_train_sequences[:217176], y_train_nn1[:217176], \n",
    "          epochs=30, batch_size=512,\n",
    "          validation_data=(X_train_sequences[217176:], y_train_nn1[217176:]),callbacks=[early_stopping_monitor], verbose=1)"
   ]
  },
  {
   "cell_type": "code",
   "execution_count": 0,
   "metadata": {
    "colab": {},
    "colab_type": "code",
    "id": "gPzuA-4R_DyU"
   },
   "outputs": [],
   "source": [
    "model_LSTM.save(\"/content/drive/My Drive/Consumer Complaints/model_LSTM.h5\")"
   ]
  },
  {
   "cell_type": "code",
   "execution_count": 0,
   "metadata": {
    "colab": {},
    "colab_type": "code",
    "id": "eAjDKi38wprW"
   },
   "outputs": [],
   "source": [
    "scores = model_LSTM.evaluate(X_test_sequences, y_test, verbose=1)\n",
    "print(\"LSTM-Accuracy:\", scores[1])"
   ]
  },
  {
   "cell_type": "code",
   "execution_count": 0,
   "metadata": {
    "colab": {},
    "colab_type": "code",
    "id": "dcG1HXCt_J3d"
   },
   "outputs": [],
   "source": [
    "print(\"Confusion matrix for LSTM\")\n",
    "y_pred = model_CNN_loaded.predict_classes(X_test_sequences)\n",
    "cnf_matrix = confusion_matrix(y_test_nn, y_pred)\n",
    "np.set_printoptions(precision=2)\n",
    "plt.figure()\n",
    "target_names =['bank account or service', 'credit card or prepaid card', 'credit reporting, credit repair services, or other personal consumer reports','debt collection','Loans','mortgage']\n",
    "plot_confusion_matrix(cnf_matrix, classes=target_names,\n",
    "                  title='Confusion matrix, without normalization')\n",
    "plt.show()\n",
    "\n",
    "print(\"Classification Report for LSTM\")\n",
    "print(classification_report(y_test_nn,y_pred, target_names=target_names))"
   ]
  },
  {
   "cell_type": "code",
   "execution_count": 0,
   "metadata": {
    "colab": {},
    "colab_type": "code",
    "id": "AJrdGjVn_Jwq"
   },
   "outputs": [],
   "source": []
  }
 ],
 "metadata": {
  "accelerator": "GPU",
  "colab": {
   "collapsed_sections": [
    "19MHTKar_dgJ",
    "eQGOIsfHZC3q",
    "_g73BzIEfD6A",
    "kW-Yp6jJhlUU",
    "b-p-P7qpvQMh",
    "IMCQ3U6hjbV3",
    "X42fMS8t_8tY",
    "kSq2XxQmAFn2",
    "Z7nC4rKQHFzU",
    "YQBazCqskS6x",
    "bMN1WO2Uv5e8"
   ],
   "machine_shape": "hm",
   "name": "Code.ipynb",
   "provenance": [],
   "toc_visible": true
  },
  "kernelspec": {
   "display_name": "Python 3 (ipykernel)",
   "language": "python",
   "name": "python3"
  },
  "language_info": {
   "codemirror_mode": {
    "name": "ipython",
    "version": 3
   },
   "file_extension": ".py",
   "mimetype": "text/x-python",
   "name": "python",
   "nbconvert_exporter": "python",
   "pygments_lexer": "ipython3",
   "version": "3.9.7"
  }
 },
 "nbformat": 4,
 "nbformat_minor": 1
}
